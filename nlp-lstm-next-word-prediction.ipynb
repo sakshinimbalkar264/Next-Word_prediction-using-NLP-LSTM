{
 "cells": [
  {
   "cell_type": "markdown",
   "metadata": {},
   "source": [
    "# <center> Text Generation - Next Word Prediction"
   ]
  },
  {
   "cell_type": "code",
   "execution_count": 1,
   "metadata": {
    "execution": {
     "iopub.execute_input": "2021-11-20T16:07:34.571962Z",
     "iopub.status.busy": "2021-11-20T16:07:34.571521Z",
     "iopub.status.idle": "2021-11-20T16:07:34.648775Z",
     "shell.execute_reply": "2021-11-20T16:07:34.648054Z",
     "shell.execute_reply.started": "2021-11-20T16:07:34.571868Z"
    }
   },
   "outputs": [
    {
     "name": "stdout",
     "output_type": "stream",
     "text": [
      "/kaggle/input/nlp-specialization-data/\n",
      "/kaggle/input/nlp-specialization-data/Medical_Notes\n",
      "/kaggle/input/nlp-specialization-data/Medical_Notes/Medical_Notes\n",
      "/kaggle/input/nlp-specialization-data/pubmed2018_w2v_200D\n",
      "/kaggle/input/nlp-specialization-data/pubmed2018_w2v_200D/pubmed2018_w2v_200D\n"
     ]
    }
   ],
   "source": [
    "# This Python 3 environment comes with many helpful analytics libraries installed\n",
    "# It is defined by the kaggle/python Docker image: https://github.com/kaggle/docker-python\n",
    "# For example, here's several helpful packages to load\n",
    "\n",
    "import numpy as np # linear algebra\n",
    "import pandas as pd # data processing, CSV file I/O (e.g. pd.read_csv)\n",
    "\n",
    "# Input data files are available in the read-only \"../input/\" directory\n",
    "# For example, running this (by clicking run or pressing Shift+Enter) will list all files under the input directory\n",
    "\n",
    "import os\n",
    "for dirname, _, filenames in os.walk('/kaggle/input/nlp-specialization-data/'):\n",
    "    print(dirname)\n",
    "    #for filename in filenames:\n",
    "    #   print(os.path.join(dirname, filename))\n",
    "\n",
    "# You can write up to 20GB to the current directory (/kaggle/working/) that gets preserved as output when you create a version using \"Save & Run All\" \n",
    "# You can also write temporary files to /kaggle/temp/, but they won't be saved outside of the current session"
   ]
  },
  {
   "cell_type": "markdown",
   "metadata": {},
   "source": [
    "## 1. Functions for Processing Text\n",
    "\n",
    "### a. Reading in files as a string text"
   ]
  },
  {
   "cell_type": "code",
   "execution_count": 74,
   "metadata": {
    "execution": {
     "iopub.execute_input": "2021-11-20T16:41:39.386635Z",
     "iopub.status.busy": "2021-11-20T16:41:39.386375Z",
     "iopub.status.idle": "2021-11-20T16:41:39.390698Z",
     "shell.execute_reply": "2021-11-20T16:41:39.390021Z",
     "shell.execute_reply.started": "2021-11-20T16:41:39.386605Z"
    }
   },
   "outputs": [],
   "source": [
    "def read_file(filepath):\n",
    "    \n",
    "    with open(filepath) as f:\n",
    "        str_text = f.read()\n",
    "    \n",
    "    return str_text"
   ]
  },
  {
   "cell_type": "code",
   "execution_count": 3,
   "metadata": {
    "execution": {
     "iopub.execute_input": "2021-11-20T16:07:34.657778Z",
     "iopub.status.busy": "2021-11-20T16:07:34.657458Z",
     "iopub.status.idle": "2021-11-20T16:07:34.669511Z",
     "shell.execute_reply": "2021-11-20T16:07:34.668844Z",
     "shell.execute_reply.started": "2021-11-20T16:07:34.657735Z"
    }
   },
   "outputs": [
    {
     "data": {
      "text/plain": [
       "5"
      ]
     },
     "execution_count": 3,
     "metadata": {},
     "output_type": "execute_result"
    }
   ],
   "source": [
    "len(\"sakshi\")"
   ]
  },
  {
   "cell_type": "code",
   "execution_count": 4,
   "metadata": {
    "execution": {
     "iopub.execute_input": "2021-11-20T16:07:34.672662Z",
     "iopub.status.busy": "2021-11-20T16:07:34.671943Z",
     "iopub.status.idle": "2021-11-20T16:07:34.685321Z",
     "shell.execute_reply": "2021-11-20T16:07:34.684603Z",
     "shell.execute_reply.started": "2021-11-20T16:07:34.672624Z"
    }
   },
   "outputs": [
    {
     "data": {
      "text/plain": [
       "1198622"
      ]
     },
     "execution_count": 4,
     "metadata": {},
     "output_type": "execute_result"
    }
   ],
   "source": [
    "len(read_file('/kaggle/input/nlp-specialization-data/Novel - Moby-Dick By Herman Melville.txt'))"
   ]
  },
  {
   "cell_type": "code",
   "execution_count": 5,
   "metadata": {
    "execution": {
     "iopub.execute_input": "2021-11-20T16:07:34.688843Z",
     "iopub.status.busy": "2021-11-20T16:07:34.688291Z",
     "iopub.status.idle": "2021-11-20T16:07:34.699651Z",
     "shell.execute_reply": "2021-11-20T16:07:34.699007Z",
     "shell.execute_reply.started": "2021-11-20T16:07:34.688789Z"
    }
   },
   "outputs": [
    {
     "name": "stdout",
     "output_type": "stream",
     "text": [
      "CHAPTER 1\n",
      "\n",
      "Loomings.\n",
      "\n",
      "\n",
      "Call me Ishmael.  Some years ago--never mind how long\n",
      "precisely--having little or no money in my purse, and nothing\n",
      "particular to interest me on shore, I thought I would sail about a\n",
      "little and see the watery part of the world.  It is a way I have of\n",
      "driving off the spleen and regulating the circulation.  Whenever I\n",
      "find myself growing grim about the mouth; whenever it is a damp,\n",
      "drizzly November in my soul; whenever I find myself involuntarily\n",
      "pausing before coffin warehouses, and bringing up the rear of every\n",
      "funeral I meet; and especially whenever my hypos get such an upper\n",
      "hand of me, that it requires a strong moral principle to prevent me\n",
      "from deliberately stepping into the street, and methodically knocking\n",
      "people's hats off--then, I account it high time to get to sea as soon\n",
      "as I can.  This is my substitute for pistol and ball.  With a\n",
      "philosophical flourish Cato throws himself upon his sword; I quietly\n",
      "take to the ship.  There is nothing surprising in this.  If they but\n",
      "knew it, almost all men in their degree, some time or other, cherish\n",
      "very nearly the same feelings towards the ocean with me.\n",
      "\n",
      "There now is your insular city of the Manhattoes, belted round by\n",
      "wharves as Indian isles by coral reefs--commerce surrounds it with\n",
      "her surf.  Right and left, the streets take you waterward.  Its\n",
      "extreme downtown is the battery, where that noble mole is washed by\n",
      "waves, and cooled by breezes, which a few hours previous were out of\n",
      "sight of land.  Look at the crowds of water-gazers there.\n",
      "\n",
      "Circumambulate the city of a dreamy Sabbath afternoon.  Go from\n",
      "Corlears Hook to Coenties Slip, and from thence, by Whitehall,\n",
      "northward.  What do you see?--Posted like silent sentinels all around\n",
      "the town, stand thousands upon thousands of mortal men fixed in ocean\n",
      "reveries.  Some leaning against the spiles; some seated upon the\n",
      "pier-heads; some looking over the bulwarks of ships from China; some\n",
      "high aloft in the rigging, as if striving to get a still better\n",
      "seaward peep.  But these are all landsmen; of week days pent up in\n",
      "lath and plaster--tied to counters, nailed to benches, clinched to\n",
      "desks.  How then is this?  Are the green fields gone?  What do they\n",
      "here?\n",
      "\n",
      "But look! here come more crowds, pacing straight for the water, and\n",
      "seemingly bound for a dive.  Strange!  Nothing will content them but\n",
      "the extremest limit of the land; loitering under the shady lee of\n",
      "yonder warehouses will not suffice.  No.  They must get just as nigh\n",
      "the water as they possibly can without falling in.  And there they\n",
      "stand--miles of them--leagues.  Inlanders all, they come from lanes\n",
      "and alleys, streets and avenues--north, east, south, and west.  Yet\n",
      "here they all unite.  Tell me, does the magnetic virtue of the\n",
      "needles of the compasses of all those ships attract them thither?\n",
      "\n",
      "Once more.  Say you are in the country; in some high land of lakes.\n",
      "Take almost any path you please, and ten to one it carries you down\n",
      "in a dale, and leaves you there by a pool in the stream.  There is\n",
      "magic in it.  Let the most absent-minded of men be plunged in his\n",
      "deepest reveries--stand that man on his legs, set his feet a-going,\n",
      "and he will infallibly lead you to water, if water there be in all\n",
      "that region.  Should you ever be athirst in the great American\n",
      "desert, try this experiment, if your caravan happen to be supplied\n",
      "with a metaphysical professor.  Yes, as every one knows, meditation\n",
      "and water are wedded for ever.\n",
      "\n",
      "But here is an artist.  He desires to paint you the dreamiest,\n",
      "shadiest, quietest, most enchanting bit of romantic landscape in all\n",
      "the valley of the Saco.  What is the chief element he employs?  There\n",
      "stand his trees, each with a hollow trunk, as if a hermit and a\n",
      "crucifix were within; and here sleeps his meadow, and there sleep his\n",
      "cattle; and up from yonder cottage goes a sleepy smoke.  Deep into\n",
      "distant woodlands winds a mazy way, reaching to overlapping spurs of\n",
      "mountains bathed in their hill-side blue.  But though the picture\n",
      "lies thus tranced, and though this pine-tree shakes down its sighs\n",
      "like leaves upon this shepherd's head, yet all were vain, unless the\n",
      "shepherd's eye were fixed upon the magic stream before him.  Go visit\n",
      "the Prairies in June, when for scores on scores of miles you wade\n",
      "knee-deep among Tiger-lilies--what is the one charm\n",
      "wanting?--Water--there is not a drop of water there!  Were Niagara\n",
      "but a cataract of sand, would you travel your thousand miles to see\n",
      "it?  Why did the poor poet of Tennessee, upon suddenly receiving two\n",
      "handfuls of silver, deliberate whether to buy him a coat, which he\n",
      "sadly needed, or invest his money in a pedestrian trip to Rockaway\n",
      "Beach?  Why is almost every robust healthy boy with a robust healthy\n",
      "soul in him, at some time or other crazy to go to sea?  Why upon your\n",
      "first voyage as a passenger, did you yourself feel such a mystical\n",
      "vibration, when first told that you and your ship were now out of\n",
      "sight of land?  Why did the old Persians hold the sea holy?  Why did\n",
      "the Greeks \n"
     ]
    }
   ],
   "source": [
    "print(read_file('/kaggle/input/nlp-specialization-data/Novel - Moby-Dick By Herman Melville.txt')[:5000])"
   ]
  },
  {
   "cell_type": "markdown",
   "metadata": {},
   "source": [
    "### b. Tokenize and Clean Text"
   ]
  },
  {
   "cell_type": "code",
   "execution_count": 6,
   "metadata": {
    "execution": {
     "iopub.execute_input": "2021-11-20T16:07:34.701397Z",
     "iopub.status.busy": "2021-11-20T16:07:34.700879Z",
     "iopub.status.idle": "2021-11-20T16:07:43.886089Z",
     "shell.execute_reply": "2021-11-20T16:07:43.885292Z",
     "shell.execute_reply.started": "2021-11-20T16:07:34.701361Z"
    }
   },
   "outputs": [],
   "source": [
    "import spacy\n",
    "import en_core_web_sm\n",
    "\n",
    "nlp = en_core_web_sm.load()\n",
    "nlp.max_length = 1198623"
   ]
  },
  {
   "cell_type": "code",
   "execution_count": 7,
   "metadata": {
    "execution": {
     "iopub.execute_input": "2021-11-20T16:07:43.887857Z",
     "iopub.status.busy": "2021-11-20T16:07:43.887563Z",
     "iopub.status.idle": "2021-11-20T16:07:43.892824Z",
     "shell.execute_reply": "2021-11-20T16:07:43.891830Z",
     "shell.execute_reply.started": "2021-11-20T16:07:43.887821Z"
    }
   },
   "outputs": [],
   "source": [
    "def read_file(filepath):\n",
    "    \n",
    "    with open(filepath) as f:\n",
    "        str_text = f.read()\n",
    "    \n",
    "    return str_text[:250000]"
   ]
  },
  {
   "cell_type": "code",
   "execution_count": 8,
   "metadata": {
    "execution": {
     "iopub.execute_input": "2021-11-20T16:07:43.894978Z",
     "iopub.status.busy": "2021-11-20T16:07:43.894359Z",
     "iopub.status.idle": "2021-11-20T16:07:43.902918Z",
     "shell.execute_reply": "2021-11-20T16:07:43.902145Z",
     "shell.execute_reply.started": "2021-11-20T16:07:43.894866Z"
    }
   },
   "outputs": [],
   "source": [
    "def separate_punc(doc_text):\n",
    "    return [token.text.lower() for token in nlp(doc_text) if token.text not in '\\n\\n \\n\\n\\n!\"-#$%&()--.*+,-/:;<=>?@[\\\\]^_`{|}~\\t\\n ']"
   ]
  },
  {
   "cell_type": "code",
   "execution_count": 9,
   "metadata": {
    "execution": {
     "iopub.execute_input": "2021-11-20T16:07:43.904605Z",
     "iopub.status.busy": "2021-11-20T16:07:43.904147Z",
     "iopub.status.idle": "2021-11-20T16:08:00.763489Z",
     "shell.execute_reply": "2021-11-20T16:08:00.762700Z",
     "shell.execute_reply.started": "2021-11-20T16:07:43.904568Z"
    }
   },
   "outputs": [],
   "source": [
    "d = read_file('/kaggle/input/nlp-specialization-data/Novel - Moby-Dick By Herman Melville.txt')\n",
    "tokens = separate_punc(d)"
   ]
  },
  {
   "cell_type": "code",
   "execution_count": 10,
   "metadata": {
    "execution": {
     "iopub.execute_input": "2021-11-20T16:08:00.765250Z",
     "iopub.status.busy": "2021-11-20T16:08:00.764991Z",
     "iopub.status.idle": "2021-11-20T16:08:00.770547Z",
     "shell.execute_reply": "2021-11-20T16:08:00.769841Z",
     "shell.execute_reply.started": "2021-11-20T16:08:00.765215Z"
    }
   },
   "outputs": [
    {
     "data": {
      "text/plain": [
       "list"
      ]
     },
     "execution_count": 10,
     "metadata": {},
     "output_type": "execute_result"
    }
   ],
   "source": [
    "type(tokens)"
   ]
  },
  {
   "cell_type": "code",
   "execution_count": 11,
   "metadata": {
    "execution": {
     "iopub.execute_input": "2021-11-20T16:08:00.772450Z",
     "iopub.status.busy": "2021-11-20T16:08:00.771908Z",
     "iopub.status.idle": "2021-11-20T16:08:00.782045Z",
     "shell.execute_reply": "2021-11-20T16:08:00.781238Z",
     "shell.execute_reply.started": "2021-11-20T16:08:00.772414Z"
    }
   },
   "outputs": [
    {
     "data": {
      "text/plain": [
       "45279"
      ]
     },
     "execution_count": 11,
     "metadata": {},
     "output_type": "execute_result"
    }
   ],
   "source": [
    "len(tokens)"
   ]
  },
  {
   "cell_type": "code",
   "execution_count": 12,
   "metadata": {
    "execution": {
     "iopub.execute_input": "2021-11-20T16:08:00.784033Z",
     "iopub.status.busy": "2021-11-20T16:08:00.783485Z",
     "iopub.status.idle": "2021-11-20T16:08:00.792918Z",
     "shell.execute_reply": "2021-11-20T16:08:00.792125Z",
     "shell.execute_reply.started": "2021-11-20T16:08:00.783995Z"
    }
   },
   "outputs": [
    {
     "data": {
      "text/plain": [
       "['chapter',\n",
       " '1',\n",
       " 'loomings',\n",
       " 'call',\n",
       " 'me',\n",
       " 'ishmael',\n",
       " 'some',\n",
       " 'years',\n",
       " 'ago',\n",
       " 'never']"
      ]
     },
     "execution_count": 12,
     "metadata": {},
     "output_type": "execute_result"
    }
   ],
   "source": [
    "tokens[:10]"
   ]
  },
  {
   "cell_type": "markdown",
   "metadata": {},
   "source": [
    "### c. Create Sequences of Tokens"
   ]
  },
  {
   "cell_type": "code",
   "execution_count": 13,
   "metadata": {
    "execution": {
     "iopub.execute_input": "2021-11-20T16:08:00.794515Z",
     "iopub.status.busy": "2021-11-20T16:08:00.794257Z",
     "iopub.status.idle": "2021-11-20T16:08:00.836440Z",
     "shell.execute_reply": "2021-11-20T16:08:00.835767Z",
     "shell.execute_reply.started": "2021-11-20T16:08:00.794481Z"
    }
   },
   "outputs": [],
   "source": [
    "# organize into sequences of tokens\n",
    "train_len = 25+1 # 25 training words , then one target word\n",
    "\n",
    "# Empty list of sequences\n",
    "text_sequences = []\n",
    "\n",
    "for i in range(train_len, len(tokens)):\n",
    "    \n",
    "    # Grab train_len# amount of characters\n",
    "    seq = tokens[i-train_len:i]\n",
    "    \n",
    "    # Add to list of sequences\n",
    "    text_sequences.append(seq)"
   ]
  },
  {
   "cell_type": "code",
   "execution_count": 14,
   "metadata": {
    "execution": {
     "iopub.execute_input": "2021-11-20T16:08:00.840276Z",
     "iopub.status.busy": "2021-11-20T16:08:00.840070Z",
     "iopub.status.idle": "2021-11-20T16:08:00.849189Z",
     "shell.execute_reply": "2021-11-20T16:08:00.848091Z",
     "shell.execute_reply.started": "2021-11-20T16:08:00.840252Z"
    }
   },
   "outputs": [
    {
     "name": "stdout",
     "output_type": "stream",
     "text": [
      "CHAPTER 1\n",
      "\n",
      "Loomings.\n",
      "\n",
      "\n",
      "Call me Ishmael.  Some years ago--never mind how long\n",
      "precisely--having little or no money in my purse, and nothing\n",
      "particular to interest me on shore, I thought I would sail about a\n",
      "little and see the watery part of the world.  It is a way I have of\n",
      "driving off the spleen and regulating the circulation.  Whenever I\n",
      "find myself growing grim about the mouth; whenever it is a damp,\n",
      "drizzly November in my soul; whenever I find myself involuntarily\n",
      "pausing before coffin warehouses, and bringing up the rear of every\n",
      "funeral I meet; and especially whenever my hypos get such an upper\n",
      "hand of me, that it requires a strong moral principle to prevent me\n",
      "from deliberately stepping into the street, and methodically knocking\n",
      "people's hats off--then, I account it high time to get to sea as soon\n",
      "as I can.  This is my substitute for pistol and ball.  With a\n",
      "philosophical flourish Cato throws himself upon his sword; I quietly\n",
      "take to the ship.  There is nothing surprising in this\n"
     ]
    }
   ],
   "source": [
    "print(read_file('/kaggle/input/nlp-specialization-data/Novel - Moby-Dick By Herman Melville.txt')[:1000])"
   ]
  },
  {
   "cell_type": "code",
   "execution_count": 15,
   "metadata": {
    "execution": {
     "iopub.execute_input": "2021-11-20T16:08:00.851932Z",
     "iopub.status.busy": "2021-11-20T16:08:00.851237Z",
     "iopub.status.idle": "2021-11-20T16:08:00.857848Z",
     "shell.execute_reply": "2021-11-20T16:08:00.857090Z",
     "shell.execute_reply.started": "2021-11-20T16:08:00.851893Z"
    }
   },
   "outputs": [
    {
     "data": {
      "text/plain": [
       "'chapter 1 loomings call me ishmael some years ago never mind how long precisely having little or no money in my purse and nothing particular to'"
      ]
     },
     "execution_count": 15,
     "metadata": {},
     "output_type": "execute_result"
    }
   ],
   "source": [
    "' '.join(text_sequences[0])"
   ]
  },
  {
   "cell_type": "code",
   "execution_count": 16,
   "metadata": {
    "execution": {
     "iopub.execute_input": "2021-11-20T16:08:00.859592Z",
     "iopub.status.busy": "2021-11-20T16:08:00.859092Z",
     "iopub.status.idle": "2021-11-20T16:08:00.868691Z",
     "shell.execute_reply": "2021-11-20T16:08:00.867974Z",
     "shell.execute_reply.started": "2021-11-20T16:08:00.859497Z"
    }
   },
   "outputs": [
    {
     "data": {
      "text/plain": [
       "'1 loomings call me ishmael some years ago never mind how long precisely having little or no money in my purse and nothing particular to interest'"
      ]
     },
     "execution_count": 16,
     "metadata": {},
     "output_type": "execute_result"
    }
   ],
   "source": [
    "' '.join(text_sequences[1])"
   ]
  },
  {
   "cell_type": "code",
   "execution_count": 17,
   "metadata": {
    "execution": {
     "iopub.execute_input": "2021-11-20T16:08:00.871128Z",
     "iopub.status.busy": "2021-11-20T16:08:00.870338Z",
     "iopub.status.idle": "2021-11-20T16:08:00.877273Z",
     "shell.execute_reply": "2021-11-20T16:08:00.876372Z",
     "shell.execute_reply.started": "2021-11-20T16:08:00.871088Z"
    }
   },
   "outputs": [
    {
     "data": {
      "text/plain": [
       "'loomings call me ishmael some years ago never mind how long precisely having little or no money in my purse and nothing particular to interest me'"
      ]
     },
     "execution_count": 17,
     "metadata": {},
     "output_type": "execute_result"
    }
   ],
   "source": [
    "' '.join(text_sequences[2])"
   ]
  },
  {
   "cell_type": "code",
   "execution_count": 18,
   "metadata": {
    "execution": {
     "iopub.execute_input": "2021-11-20T16:08:00.878969Z",
     "iopub.status.busy": "2021-11-20T16:08:00.878650Z",
     "iopub.status.idle": "2021-11-20T16:08:00.887016Z",
     "shell.execute_reply": "2021-11-20T16:08:00.886164Z",
     "shell.execute_reply.started": "2021-11-20T16:08:00.878935Z"
    }
   },
   "outputs": [
    {
     "data": {
      "text/plain": [
       "45253"
      ]
     },
     "execution_count": 18,
     "metadata": {},
     "output_type": "execute_result"
    }
   ],
   "source": [
    "len(text_sequences) #Every sentence is containing 26 words"
   ]
  },
  {
   "cell_type": "code",
   "execution_count": 19,
   "metadata": {
    "execution": {
     "iopub.execute_input": "2021-11-20T16:08:00.890397Z",
     "iopub.status.busy": "2021-11-20T16:08:00.888909Z",
     "iopub.status.idle": "2021-11-20T16:08:00.897160Z",
     "shell.execute_reply": "2021-11-20T16:08:00.896355Z",
     "shell.execute_reply.started": "2021-11-20T16:08:00.890365Z"
    }
   },
   "outputs": [
    {
     "data": {
      "text/plain": [
       "45279"
      ]
     },
     "execution_count": 19,
     "metadata": {},
     "output_type": "execute_result"
    }
   ],
   "source": [
    "len(tokens) # These are total number of words in the whole novel"
   ]
  },
  {
   "cell_type": "code",
   "execution_count": 20,
   "metadata": {
    "execution": {
     "iopub.execute_input": "2021-11-20T16:08:00.899021Z",
     "iopub.status.busy": "2021-11-20T16:08:00.898470Z",
     "iopub.status.idle": "2021-11-20T16:08:00.905690Z",
     "shell.execute_reply": "2021-11-20T16:08:00.904966Z",
     "shell.execute_reply.started": "2021-11-20T16:08:00.898971Z"
    }
   },
   "outputs": [
    {
     "name": "stdout",
     "output_type": "stream",
     "text": [
      "26\n",
      "['chapter', '1', 'loomings', 'call', 'me', 'ishmael', 'some', 'years', 'ago', 'never', 'mind', 'how', 'long', 'precisely', 'having', 'little', 'or', 'no', 'money', 'in', 'my', 'purse', 'and', 'nothing', 'particular', 'to']\n"
     ]
    }
   ],
   "source": [
    "print(len(text_sequences[0]))\n",
    "print(text_sequences[0])"
   ]
  },
  {
   "cell_type": "markdown",
   "metadata": {},
   "source": [
    "### d. Keras Tokenization"
   ]
  },
  {
   "cell_type": "code",
   "execution_count": 21,
   "metadata": {
    "execution": {
     "iopub.execute_input": "2021-11-20T16:08:00.907403Z",
     "iopub.status.busy": "2021-11-20T16:08:00.906990Z",
     "iopub.status.idle": "2021-11-20T16:08:01.446849Z",
     "shell.execute_reply": "2021-11-20T16:08:01.446056Z",
     "shell.execute_reply.started": "2021-11-20T16:08:00.907367Z"
    }
   },
   "outputs": [],
   "source": [
    "from keras.preprocessing.text import Tokenizer"
   ]
  },
  {
   "cell_type": "code",
   "execution_count": 22,
   "metadata": {
    "execution": {
     "iopub.execute_input": "2021-11-20T16:08:01.450330Z",
     "iopub.status.busy": "2021-11-20T16:08:01.450107Z",
     "iopub.status.idle": "2021-11-20T16:08:02.940457Z",
     "shell.execute_reply": "2021-11-20T16:08:02.939664Z",
     "shell.execute_reply.started": "2021-11-20T16:08:01.450303Z"
    }
   },
   "outputs": [],
   "source": [
    "# integer encode sequences of words\n",
    "tokenizer = Tokenizer()\n",
    "tokenizer.fit_on_texts(text_sequences)\n",
    "sequences = tokenizer.texts_to_sequences(text_sequences)"
   ]
  },
  {
   "cell_type": "code",
   "execution_count": 23,
   "metadata": {
    "execution": {
     "iopub.execute_input": "2021-11-20T16:08:02.944178Z",
     "iopub.status.busy": "2021-11-20T16:08:02.943968Z",
     "iopub.status.idle": "2021-11-20T16:08:02.952077Z",
     "shell.execute_reply": "2021-11-20T16:08:02.950352Z",
     "shell.execute_reply.started": "2021-11-20T16:08:02.944151Z"
    }
   },
   "outputs": [
    {
     "name": "stdout",
     "output_type": "stream",
     "text": [
      "26\n",
      "[187, 7000, 6999, 516, 24, 432, 65, 232, 640, 100, 223, 99, 93, 1331, 277, 68, 48, 36, 639, 6, 31, 1028, 2, 150, 431, 5]\n"
     ]
    }
   ],
   "source": [
    "print(len(sequences[0]))\n",
    "print(sequences[0])"
   ]
  },
  {
   "cell_type": "code",
   "execution_count": 24,
   "metadata": {
    "execution": {
     "iopub.execute_input": "2021-11-20T16:08:02.953809Z",
     "iopub.status.busy": "2021-11-20T16:08:02.953524Z",
     "iopub.status.idle": "2021-11-20T16:08:02.961145Z",
     "shell.execute_reply": "2021-11-20T16:08:02.960061Z",
     "shell.execute_reply.started": "2021-11-20T16:08:02.953755Z"
    }
   },
   "outputs": [
    {
     "data": {
      "text/plain": [
       "dict"
      ]
     },
     "execution_count": 24,
     "metadata": {},
     "output_type": "execute_result"
    }
   ],
   "source": [
    "type(tokenizer.index_word)"
   ]
  },
  {
   "cell_type": "code",
   "execution_count": 25,
   "metadata": {
    "execution": {
     "iopub.execute_input": "2021-11-20T16:08:02.962827Z",
     "iopub.status.busy": "2021-11-20T16:08:02.962453Z",
     "iopub.status.idle": "2021-11-20T16:08:02.972323Z",
     "shell.execute_reply": "2021-11-20T16:08:02.971548Z",
     "shell.execute_reply.started": "2021-11-20T16:08:02.962773Z"
    }
   },
   "outputs": [
    {
     "data": {
      "text/plain": [
       "'chapter 1 loomings call me ishmael some years ago never mind how long precisely having little or no money in my purse and nothing particular to'"
      ]
     },
     "execution_count": 25,
     "metadata": {},
     "output_type": "execute_result"
    }
   ],
   "source": [
    "' '.join(text_sequences[0])"
   ]
  },
  {
   "cell_type": "code",
   "execution_count": 26,
   "metadata": {
    "execution": {
     "iopub.execute_input": "2021-11-20T16:08:02.974442Z",
     "iopub.status.busy": "2021-11-20T16:08:02.973894Z",
     "iopub.status.idle": "2021-11-20T16:08:02.987838Z",
     "shell.execute_reply": "2021-11-20T16:08:02.987117Z",
     "shell.execute_reply.started": "2021-11-20T16:08:02.974404Z"
    }
   },
   "outputs": [
    {
     "name": "stdout",
     "output_type": "stream",
     "text": [
      "1 ---> the\n",
      "2 ---> and\n",
      "3 ---> of\n",
      "4 ---> a\n",
      "5 ---> to\n",
      "6 ---> in\n",
      "7 ---> i\n",
      "8 ---> that\n",
      "9 ---> his\n",
      "10 ---> he\n",
      "11 ---> it\n",
      "12 ---> was\n",
      "13 ---> but\n",
      "14 ---> with\n",
      "15 ---> all\n",
      "16 ---> for\n",
      "17 ---> as\n",
      "18 ---> 's\n",
      "19 ---> at\n",
      "20 ---> is\n"
     ]
    }
   ],
   "source": [
    "i=0\n",
    "for a in tokenizer.index_word:\n",
    "    print(a,\"--->\",tokenizer.index_word[a])\n",
    "    i+=1\n",
    "    if i==20 : break "
   ]
  },
  {
   "cell_type": "code",
   "execution_count": 27,
   "metadata": {
    "execution": {
     "iopub.execute_input": "2021-11-20T16:08:02.989413Z",
     "iopub.status.busy": "2021-11-20T16:08:02.989184Z",
     "iopub.status.idle": "2021-11-20T16:08:02.997522Z",
     "shell.execute_reply": "2021-11-20T16:08:02.996651Z",
     "shell.execute_reply.started": "2021-11-20T16:08:02.989381Z"
    }
   },
   "outputs": [
    {
     "name": "stdout",
     "output_type": "stream",
     "text": [
      "187 : chapter\n",
      "7000 : 1\n",
      "6999 : loomings\n",
      "516 : call\n",
      "24 : me\n",
      "432 : ishmael\n",
      "65 : some\n",
      "232 : years\n",
      "640 : ago\n",
      "100 : never\n",
      "223 : mind\n",
      "99 : how\n",
      "93 : long\n",
      "1331 : precisely\n",
      "277 : having\n",
      "68 : little\n",
      "48 : or\n",
      "36 : no\n",
      "639 : money\n",
      "6 : in\n",
      "31 : my\n",
      "1028 : purse\n",
      "2 : and\n",
      "150 : nothing\n",
      "431 : particular\n",
      "5 : to\n"
     ]
    }
   ],
   "source": [
    "for i in sequences[0]:\n",
    "    print(f'{i} : {tokenizer.index_word[i]}')"
   ]
  },
  {
   "cell_type": "code",
   "execution_count": 28,
   "metadata": {
    "execution": {
     "iopub.execute_input": "2021-11-20T16:08:02.999314Z",
     "iopub.status.busy": "2021-11-20T16:08:02.999021Z",
     "iopub.status.idle": "2021-11-20T16:08:03.006324Z",
     "shell.execute_reply": "2021-11-20T16:08:03.005521Z",
     "shell.execute_reply.started": "2021-11-20T16:08:02.999279Z"
    }
   },
   "outputs": [
    {
     "name": "stdout",
     "output_type": "stream",
     "text": [
      "('chapter', 807)\n",
      "('1', 2)\n",
      "('loomings', 3)\n",
      "('call', 238)\n",
      "('me', 6214)\n",
      "('ishmael', 292)\n",
      "('some', 2451)\n",
      "('years', 606)\n",
      "('ago', 191)\n",
      "('never', 1700)\n"
     ]
    }
   ],
   "source": [
    "i=0\n",
    "for a in tokenizer.word_counts:\n",
    "    print((a,tokenizer.word_counts[a]))\n",
    "    i+=1\n",
    "    if i==10 : break "
   ]
  },
  {
   "cell_type": "code",
   "execution_count": 29,
   "metadata": {
    "execution": {
     "iopub.execute_input": "2021-11-20T16:08:03.008240Z",
     "iopub.status.busy": "2021-11-20T16:08:03.007917Z",
     "iopub.status.idle": "2021-11-20T16:08:03.014738Z",
     "shell.execute_reply": "2021-11-20T16:08:03.013857Z",
     "shell.execute_reply.started": "2021-11-20T16:08:03.008205Z"
    }
   },
   "outputs": [
    {
     "data": {
      "text/plain": [
       "7000"
      ]
     },
     "execution_count": 29,
     "metadata": {},
     "output_type": "execute_result"
    }
   ],
   "source": [
    "vocabulary_size = len(tokenizer.word_counts)\n",
    "vocabulary_size"
   ]
  },
  {
   "cell_type": "code",
   "execution_count": 30,
   "metadata": {
    "execution": {
     "iopub.execute_input": "2021-11-20T16:08:03.016782Z",
     "iopub.status.busy": "2021-11-20T16:08:03.016305Z",
     "iopub.status.idle": "2021-11-20T16:08:03.026894Z",
     "shell.execute_reply": "2021-11-20T16:08:03.026012Z",
     "shell.execute_reply.started": "2021-11-20T16:08:03.016747Z"
    },
    "scrolled": true
   },
   "outputs": [
    {
     "name": "stdout",
     "output_type": "stream",
     "text": [
      "6990 ---> subtle\n",
      "6991 ---> conceived\n",
      "6992 ---> poorly\n",
      "6993 ---> moods\n",
      "6994 ---> whimsicalities\n",
      "6995 ---> apprehensiveness\n",
      "6996 ---> uneasiness\n",
      "6997 ---> warrantry\n",
      "6998 ---> emotions\n",
      "6999 ---> loomings\n"
     ]
    }
   ],
   "source": [
    "i=6990\n",
    "for a in range(i,7000):\n",
    "    print(a,\"--->\",tokenizer.index_word[a])\n",
    "    #i+=1\n",
    "    #if i==6999 : break "
   ]
  },
  {
   "cell_type": "code",
   "execution_count": 31,
   "metadata": {
    "execution": {
     "iopub.execute_input": "2021-11-20T16:08:03.028997Z",
     "iopub.status.busy": "2021-11-20T16:08:03.028313Z",
     "iopub.status.idle": "2021-11-20T16:08:03.032400Z",
     "shell.execute_reply": "2021-11-20T16:08:03.031502Z",
     "shell.execute_reply.started": "2021-11-20T16:08:03.028952Z"
    }
   },
   "outputs": [],
   "source": [
    "# tokenizer.index_word"
   ]
  },
  {
   "cell_type": "markdown",
   "metadata": {},
   "source": [
    "### e. Convert to Numpy Matrix"
   ]
  },
  {
   "cell_type": "code",
   "execution_count": 32,
   "metadata": {
    "execution": {
     "iopub.execute_input": "2021-11-20T16:08:03.034692Z",
     "iopub.status.busy": "2021-11-20T16:08:03.034222Z",
     "iopub.status.idle": "2021-11-20T16:08:03.041685Z",
     "shell.execute_reply": "2021-11-20T16:08:03.040978Z",
     "shell.execute_reply.started": "2021-11-20T16:08:03.034653Z"
    }
   },
   "outputs": [],
   "source": [
    "import numpy as np"
   ]
  },
  {
   "cell_type": "code",
   "execution_count": 33,
   "metadata": {
    "execution": {
     "iopub.execute_input": "2021-11-20T16:08:03.045080Z",
     "iopub.status.busy": "2021-11-20T16:08:03.044249Z",
     "iopub.status.idle": "2021-11-20T16:08:03.052295Z",
     "shell.execute_reply": "2021-11-20T16:08:03.051485Z",
     "shell.execute_reply.started": "2021-11-20T16:08:03.045040Z"
    }
   },
   "outputs": [
    {
     "data": {
      "text/plain": [
       "45253"
      ]
     },
     "execution_count": 33,
     "metadata": {},
     "output_type": "execute_result"
    }
   ],
   "source": [
    "len(sequences)"
   ]
  },
  {
   "cell_type": "code",
   "execution_count": 34,
   "metadata": {
    "execution": {
     "iopub.execute_input": "2021-11-20T16:08:03.054462Z",
     "iopub.status.busy": "2021-11-20T16:08:03.053958Z",
     "iopub.status.idle": "2021-11-20T16:08:03.061536Z",
     "shell.execute_reply": "2021-11-20T16:08:03.060774Z",
     "shell.execute_reply.started": "2021-11-20T16:08:03.054425Z"
    }
   },
   "outputs": [
    {
     "data": {
      "text/plain": [
       "26"
      ]
     },
     "execution_count": 34,
     "metadata": {},
     "output_type": "execute_result"
    }
   ],
   "source": [
    "len(sequences[0])"
   ]
  },
  {
   "cell_type": "code",
   "execution_count": 35,
   "metadata": {
    "execution": {
     "iopub.execute_input": "2021-11-20T16:08:03.063361Z",
     "iopub.status.busy": "2021-11-20T16:08:03.063030Z",
     "iopub.status.idle": "2021-11-20T16:08:03.322004Z",
     "shell.execute_reply": "2021-11-20T16:08:03.321021Z",
     "shell.execute_reply.started": "2021-11-20T16:08:03.063303Z"
    }
   },
   "outputs": [],
   "source": [
    "sequences = np.array(sequences)"
   ]
  },
  {
   "cell_type": "code",
   "execution_count": 36,
   "metadata": {
    "execution": {
     "iopub.execute_input": "2021-11-20T16:08:03.323899Z",
     "iopub.status.busy": "2021-11-20T16:08:03.323553Z",
     "iopub.status.idle": "2021-11-20T16:08:03.334371Z",
     "shell.execute_reply": "2021-11-20T16:08:03.333651Z",
     "shell.execute_reply.started": "2021-11-20T16:08:03.323858Z"
    }
   },
   "outputs": [
    {
     "data": {
      "text/plain": [
       "(45253, 26)"
      ]
     },
     "execution_count": 36,
     "metadata": {},
     "output_type": "execute_result"
    }
   ],
   "source": [
    "sequences.shape"
   ]
  },
  {
   "cell_type": "code",
   "execution_count": 37,
   "metadata": {
    "execution": {
     "iopub.execute_input": "2021-11-20T16:08:03.336868Z",
     "iopub.status.busy": "2021-11-20T16:08:03.336586Z",
     "iopub.status.idle": "2021-11-20T16:08:03.343630Z",
     "shell.execute_reply": "2021-11-20T16:08:03.342700Z",
     "shell.execute_reply.started": "2021-11-20T16:08:03.336832Z"
    }
   },
   "outputs": [
    {
     "data": {
      "text/plain": [
       "array([[ 187, 7000, 6999, ...,  150,  431,    5],\n",
       "       [7000, 6999,  516, ...,  431,    5,  734],\n",
       "       [6999,  516,   24, ...,    5,  734,   24],\n",
       "       ...,\n",
       "       [  86,  578,    7, ...,  472,   14,    1],\n",
       "       [ 578,    7,  171, ...,   14,    1,  111],\n",
       "       [   7,  171,    5, ...,    1,  111,  577]])"
      ]
     },
     "execution_count": 37,
     "metadata": {},
     "output_type": "execute_result"
    }
   ],
   "source": [
    "sequences"
   ]
  },
  {
   "cell_type": "markdown",
   "metadata": {},
   "source": [
    "## 2. Creating an LSTM based model"
   ]
  },
  {
   "cell_type": "code",
   "execution_count": 38,
   "metadata": {
    "execution": {
     "iopub.execute_input": "2021-11-20T16:10:15.997656Z",
     "iopub.status.busy": "2021-11-20T16:10:15.996834Z",
     "iopub.status.idle": "2021-11-20T16:10:16.002293Z",
     "shell.execute_reply": "2021-11-20T16:10:16.001476Z",
     "shell.execute_reply.started": "2021-11-20T16:10:15.997604Z"
    }
   },
   "outputs": [],
   "source": [
    "import keras\n",
    "from keras.models import Sequential\n",
    "from keras.layers import Dense,LSTM,Embedding"
   ]
  },
  {
   "cell_type": "code",
   "execution_count": 39,
   "metadata": {
    "execution": {
     "iopub.execute_input": "2021-11-20T16:17:58.020352Z",
     "iopub.status.busy": "2021-11-20T16:17:58.020073Z",
     "iopub.status.idle": "2021-11-20T16:17:58.027547Z",
     "shell.execute_reply": "2021-11-20T16:17:58.026857Z",
     "shell.execute_reply.started": "2021-11-20T16:17:58.020321Z"
    }
   },
   "outputs": [],
   "source": [
    "def create_model(vocabulary_size, seq_len):\n",
    "    model = Sequential()\n",
    "    model.add(Embedding(vocabulary_size, 25, input_length=seq_len))\n",
    "    model.add(LSTM(150, return_sequences=True))\n",
    "    model.add(LSTM(150))\n",
    "    model.add(Dense(150, activation='relu'))\n",
    "\n",
    "    model.add(Dense(vocabulary_size, activation='softmax'))\n",
    "    \n",
    "    model.compile(loss='categorical_crossentropy', optimizer='adam', metrics=['accuracy'])\n",
    "   \n",
    "    model.summary()\n",
    "    \n",
    "    return model"
   ]
  },
  {
   "cell_type": "markdown",
   "metadata": {},
   "source": [
    "## 3. Train / Test Split"
   ]
  },
  {
   "cell_type": "code",
   "execution_count": 40,
   "metadata": {
    "execution": {
     "iopub.execute_input": "2021-11-20T16:18:34.479353Z",
     "iopub.status.busy": "2021-11-20T16:18:34.479096Z",
     "iopub.status.idle": "2021-11-20T16:18:34.777220Z",
     "shell.execute_reply": "2021-11-20T16:18:34.776451Z",
     "shell.execute_reply.started": "2021-11-20T16:18:34.479324Z"
    }
   },
   "outputs": [],
   "source": [
    "from tensorflow.keras.utils import to_categorical"
   ]
  },
  {
   "cell_type": "code",
   "execution_count": 41,
   "metadata": {
    "execution": {
     "iopub.execute_input": "2021-11-20T16:18:36.050680Z",
     "iopub.status.busy": "2021-11-20T16:18:36.050428Z",
     "iopub.status.idle": "2021-11-20T16:18:36.061793Z",
     "shell.execute_reply": "2021-11-20T16:18:36.061085Z",
     "shell.execute_reply.started": "2021-11-20T16:18:36.050652Z"
    }
   },
   "outputs": [
    {
     "name": "stdout",
     "output_type": "stream",
     "text": [
      "(45253, 26)\n"
     ]
    },
    {
     "data": {
      "text/plain": [
       "array([[ 187, 7000, 6999, ...,  150,  431,    5],\n",
       "       [7000, 6999,  516, ...,  431,    5,  734],\n",
       "       [6999,  516,   24, ...,    5,  734,   24],\n",
       "       ...,\n",
       "       [  86,  578,    7, ...,  472,   14,    1],\n",
       "       [ 578,    7,  171, ...,   14,    1,  111],\n",
       "       [   7,  171,    5, ...,    1,  111,  577]])"
      ]
     },
     "execution_count": 41,
     "metadata": {},
     "output_type": "execute_result"
    }
   ],
   "source": [
    "print(sequences.shape)\n",
    "sequences"
   ]
  },
  {
   "cell_type": "code",
   "execution_count": 44,
   "metadata": {
    "execution": {
     "iopub.execute_input": "2021-11-20T16:23:11.975713Z",
     "iopub.status.busy": "2021-11-20T16:23:11.975462Z",
     "iopub.status.idle": "2021-11-20T16:23:11.984463Z",
     "shell.execute_reply": "2021-11-20T16:23:11.983565Z",
     "shell.execute_reply.started": "2021-11-20T16:23:11.975682Z"
    }
   },
   "outputs": [
    {
     "name": "stdout",
     "output_type": "stream",
     "text": [
      "(45253, 25)\n"
     ]
    },
    {
     "data": {
      "text/plain": [
       "array([[ 187, 7000, 6999, ...,    2,  150,  431],\n",
       "       [7000, 6999,  516, ...,  150,  431,    5],\n",
       "       [6999,  516,   24, ...,  431,    5,  734],\n",
       "       ...,\n",
       "       [  86,  578,    7, ...,    1,  472,   14],\n",
       "       [ 578,    7,  171, ...,  472,   14,    1],\n",
       "       [   7,  171,    5, ...,   14,    1,  111]])"
      ]
     },
     "execution_count": 44,
     "metadata": {},
     "output_type": "execute_result"
    }
   ],
   "source": [
    "# First 25 words\n",
    "print(sequences[:,:-1].shape)\n",
    "sequences[:,:-1]"
   ]
  },
  {
   "cell_type": "code",
   "execution_count": 43,
   "metadata": {
    "execution": {
     "iopub.execute_input": "2021-11-20T16:23:00.016887Z",
     "iopub.status.busy": "2021-11-20T16:23:00.016191Z",
     "iopub.status.idle": "2021-11-20T16:23:00.022703Z",
     "shell.execute_reply": "2021-11-20T16:23:00.021855Z",
     "shell.execute_reply.started": "2021-11-20T16:23:00.016854Z"
    }
   },
   "outputs": [
    {
     "name": "stdout",
     "output_type": "stream",
     "text": [
      "(45253,)\n"
     ]
    },
    {
     "data": {
      "text/plain": [
       "array([  5, 734,  24, ...,   1, 111, 577])"
      ]
     },
     "execution_count": 43,
     "metadata": {},
     "output_type": "execute_result"
    }
   ],
   "source": [
    "# last Word\n",
    "print(sequences[:,-1].shape)\n",
    "sequences[:,-1]"
   ]
  },
  {
   "cell_type": "code",
   "execution_count": 45,
   "metadata": {
    "execution": {
     "iopub.execute_input": "2021-11-20T16:23:51.630727Z",
     "iopub.status.busy": "2021-11-20T16:23:51.629952Z",
     "iopub.status.idle": "2021-11-20T16:23:51.635126Z",
     "shell.execute_reply": "2021-11-20T16:23:51.634058Z",
     "shell.execute_reply.started": "2021-11-20T16:23:51.630672Z"
    }
   },
   "outputs": [],
   "source": [
    "X = sequences[:,:-1]"
   ]
  },
  {
   "cell_type": "code",
   "execution_count": 46,
   "metadata": {
    "execution": {
     "iopub.execute_input": "2021-11-20T16:23:53.753631Z",
     "iopub.status.busy": "2021-11-20T16:23:53.753357Z",
     "iopub.status.idle": "2021-11-20T16:23:53.759122Z",
     "shell.execute_reply": "2021-11-20T16:23:53.758391Z",
     "shell.execute_reply.started": "2021-11-20T16:23:53.753600Z"
    }
   },
   "outputs": [
    {
     "data": {
      "text/plain": [
       "(45253, 25)"
      ]
     },
     "execution_count": 46,
     "metadata": {},
     "output_type": "execute_result"
    }
   ],
   "source": [
    "X.shape"
   ]
  },
  {
   "cell_type": "code",
   "execution_count": 47,
   "metadata": {
    "execution": {
     "iopub.execute_input": "2021-11-20T16:23:57.196232Z",
     "iopub.status.busy": "2021-11-20T16:23:57.195456Z",
     "iopub.status.idle": "2021-11-20T16:23:57.200928Z",
     "shell.execute_reply": "2021-11-20T16:23:57.199912Z",
     "shell.execute_reply.started": "2021-11-20T16:23:57.196179Z"
    }
   },
   "outputs": [],
   "source": [
    "y = sequences[:,-1]"
   ]
  },
  {
   "cell_type": "code",
   "execution_count": 48,
   "metadata": {
    "execution": {
     "iopub.execute_input": "2021-11-20T16:24:03.132757Z",
     "iopub.status.busy": "2021-11-20T16:24:03.132095Z",
     "iopub.status.idle": "2021-11-20T16:24:03.138687Z",
     "shell.execute_reply": "2021-11-20T16:24:03.137918Z",
     "shell.execute_reply.started": "2021-11-20T16:24:03.132705Z"
    }
   },
   "outputs": [
    {
     "data": {
      "text/plain": [
       "(45253,)"
      ]
     },
     "execution_count": 48,
     "metadata": {},
     "output_type": "execute_result"
    }
   ],
   "source": [
    "y.shape"
   ]
  },
  {
   "cell_type": "code",
   "execution_count": 49,
   "metadata": {
    "execution": {
     "iopub.execute_input": "2021-11-20T16:24:10.297574Z",
     "iopub.status.busy": "2021-11-20T16:24:10.297076Z",
     "iopub.status.idle": "2021-11-20T16:24:10.393855Z",
     "shell.execute_reply": "2021-11-20T16:24:10.393066Z",
     "shell.execute_reply.started": "2021-11-20T16:24:10.297533Z"
    }
   },
   "outputs": [],
   "source": [
    "y = to_categorical(y, num_classes=vocabulary_size)"
   ]
  },
  {
   "cell_type": "code",
   "execution_count": 50,
   "metadata": {
    "execution": {
     "iopub.execute_input": "2021-11-20T16:24:12.700741Z",
     "iopub.status.busy": "2021-11-20T16:24:12.700098Z",
     "iopub.status.idle": "2021-11-20T16:24:12.706859Z",
     "shell.execute_reply": "2021-11-20T16:24:12.705941Z",
     "shell.execute_reply.started": "2021-11-20T16:24:12.700698Z"
    }
   },
   "outputs": [
    {
     "data": {
      "text/plain": [
       "(45253, 7000)"
      ]
     },
     "execution_count": 50,
     "metadata": {},
     "output_type": "execute_result"
    }
   ],
   "source": [
    "y.shape"
   ]
  },
  {
   "cell_type": "code",
   "execution_count": 51,
   "metadata": {
    "execution": {
     "iopub.execute_input": "2021-11-20T16:24:42.436120Z",
     "iopub.status.busy": "2021-11-20T16:24:42.435572Z",
     "iopub.status.idle": "2021-11-20T16:24:42.439740Z",
     "shell.execute_reply": "2021-11-20T16:24:42.438762Z",
     "shell.execute_reply.started": "2021-11-20T16:24:42.436080Z"
    }
   },
   "outputs": [],
   "source": [
    "seq_len = X.shape[1]"
   ]
  },
  {
   "cell_type": "code",
   "execution_count": 52,
   "metadata": {
    "execution": {
     "iopub.execute_input": "2021-11-20T16:24:43.819357Z",
     "iopub.status.busy": "2021-11-20T16:24:43.818788Z",
     "iopub.status.idle": "2021-11-20T16:24:43.825152Z",
     "shell.execute_reply": "2021-11-20T16:24:43.824218Z",
     "shell.execute_reply.started": "2021-11-20T16:24:43.819317Z"
    }
   },
   "outputs": [
    {
     "data": {
      "text/plain": [
       "25"
      ]
     },
     "execution_count": 52,
     "metadata": {},
     "output_type": "execute_result"
    }
   ],
   "source": [
    "seq_len"
   ]
  },
  {
   "cell_type": "markdown",
   "metadata": {},
   "source": [
    "## 4. Training the Model"
   ]
  },
  {
   "cell_type": "code",
   "execution_count": 53,
   "metadata": {
    "execution": {
     "iopub.execute_input": "2021-11-20T16:24:57.009651Z",
     "iopub.status.busy": "2021-11-20T16:24:57.008986Z",
     "iopub.status.idle": "2021-11-20T16:25:04.816192Z",
     "shell.execute_reply": "2021-11-20T16:25:04.815470Z",
     "shell.execute_reply.started": "2021-11-20T16:24:57.009613Z"
    }
   },
   "outputs": [
    {
     "name": "stderr",
     "output_type": "stream",
     "text": [
      "2021-11-20 16:24:57.041712: I tensorflow/stream_executor/cuda/cuda_gpu_executor.cc:937] successful NUMA node read from SysFS had negative value (-1), but there must be at least one NUMA node, so returning NUMA node zero\n",
      "2021-11-20 16:24:57.042838: I tensorflow/stream_executor/cuda/cuda_gpu_executor.cc:937] successful NUMA node read from SysFS had negative value (-1), but there must be at least one NUMA node, so returning NUMA node zero\n",
      "2021-11-20 16:24:57.043516: I tensorflow/stream_executor/cuda/cuda_gpu_executor.cc:937] successful NUMA node read from SysFS had negative value (-1), but there must be at least one NUMA node, so returning NUMA node zero\n",
      "2021-11-20 16:24:57.044607: I tensorflow/core/platform/cpu_feature_guard.cc:142] This TensorFlow binary is optimized with oneAPI Deep Neural Network Library (oneDNN) to use the following CPU instructions in performance-critical operations:  AVX2 AVX512F FMA\n",
      "To enable them in other operations, rebuild TensorFlow with the appropriate compiler flags.\n",
      "2021-11-20 16:24:57.045763: I tensorflow/stream_executor/cuda/cuda_gpu_executor.cc:937] successful NUMA node read from SysFS had negative value (-1), but there must be at least one NUMA node, so returning NUMA node zero\n",
      "2021-11-20 16:24:57.046428: I tensorflow/stream_executor/cuda/cuda_gpu_executor.cc:937] successful NUMA node read from SysFS had negative value (-1), but there must be at least one NUMA node, so returning NUMA node zero\n",
      "2021-11-20 16:24:57.047063: I tensorflow/stream_executor/cuda/cuda_gpu_executor.cc:937] successful NUMA node read from SysFS had negative value (-1), but there must be at least one NUMA node, so returning NUMA node zero\n",
      "2021-11-20 16:25:04.015335: I tensorflow/stream_executor/cuda/cuda_gpu_executor.cc:937] successful NUMA node read from SysFS had negative value (-1), but there must be at least one NUMA node, so returning NUMA node zero\n",
      "2021-11-20 16:25:04.016105: I tensorflow/stream_executor/cuda/cuda_gpu_executor.cc:937] successful NUMA node read from SysFS had negative value (-1), but there must be at least one NUMA node, so returning NUMA node zero\n",
      "2021-11-20 16:25:04.016754: I tensorflow/stream_executor/cuda/cuda_gpu_executor.cc:937] successful NUMA node read from SysFS had negative value (-1), but there must be at least one NUMA node, so returning NUMA node zero\n",
      "2021-11-20 16:25:04.017387: I tensorflow/core/common_runtime/gpu/gpu_device.cc:1510] Created device /job:localhost/replica:0/task:0/device:GPU:0 with 14589 MB memory:  -> device: 0, name: Tesla P100-PCIE-16GB, pci bus id: 0000:00:04.0, compute capability: 6.0\n"
     ]
    },
    {
     "name": "stdout",
     "output_type": "stream",
     "text": [
      "Model: \"sequential\"\n",
      "_________________________________________________________________\n",
      "Layer (type)                 Output Shape              Param #   \n",
      "=================================================================\n",
      "embedding (Embedding)        (None, 25, 25)            175000    \n",
      "_________________________________________________________________\n",
      "lstm (LSTM)                  (None, 25, 150)           105600    \n",
      "_________________________________________________________________\n",
      "lstm_1 (LSTM)                (None, 150)               180600    \n",
      "_________________________________________________________________\n",
      "dense (Dense)                (None, 150)               22650     \n",
      "_________________________________________________________________\n",
      "dense_1 (Dense)              (None, 7000)              1057000   \n",
      "=================================================================\n",
      "Total params: 1,540,850\n",
      "Trainable params: 1,540,850\n",
      "Non-trainable params: 0\n",
      "_________________________________________________________________\n"
     ]
    }
   ],
   "source": [
    "# define model\n",
    "model = create_model(vocabulary_size, seq_len)\n",
    "#model = create_model(vocabulary_size, seq_len)"
   ]
  },
  {
   "cell_type": "markdown",
   "metadata": {},
   "source": [
    "---\n",
    "\n",
    "----"
   ]
  },
  {
   "cell_type": "markdown",
   "metadata": {},
   "source": [
    "## 5. Fit model"
   ]
  },
  {
   "cell_type": "code",
   "execution_count": 54,
   "metadata": {
    "execution": {
     "iopub.execute_input": "2021-11-20T16:26:25.288463Z",
     "iopub.status.busy": "2021-11-20T16:26:25.287630Z",
     "iopub.status.idle": "2021-11-20T16:35:52.361595Z",
     "shell.execute_reply": "2021-11-20T16:35:52.360782Z",
     "shell.execute_reply.started": "2021-11-20T16:26:25.288414Z"
    },
    "scrolled": true
   },
   "outputs": [
    {
     "name": "stderr",
     "output_type": "stream",
     "text": [
      "2021-11-20 16:26:25.305955: W tensorflow/core/framework/cpu_allocator_impl.cc:80] Allocation of 1267084000 exceeds 10% of free system memory.\n",
      "2021-11-20 16:26:26.883605: W tensorflow/core/framework/cpu_allocator_impl.cc:80] Allocation of 1267084000 exceeds 10% of free system memory.\n",
      "2021-11-20 16:26:27.939913: I tensorflow/compiler/mlir/mlir_graph_optimization_pass.cc:185] None of the MLIR Optimization Passes are enabled (registered 2)\n"
     ]
    },
    {
     "name": "stdout",
     "output_type": "stream",
     "text": [
      "Epoch 1/250\n"
     ]
    },
    {
     "name": "stderr",
     "output_type": "stream",
     "text": [
      "2021-11-20 16:26:31.202639: I tensorflow/stream_executor/cuda/cuda_dnn.cc:369] Loaded cuDNN version 8005\n"
     ]
    },
    {
     "name": "stdout",
     "output_type": "stream",
     "text": [
      "89/89 [==============================] - 7s 24ms/step - loss: 7.2391 - accuracy: 0.0538\n",
      "Epoch 2/250\n",
      "89/89 [==============================] - 2s 24ms/step - loss: 6.7368 - accuracy: 0.0546\n",
      "Epoch 3/250\n",
      "89/89 [==============================] - 2s 25ms/step - loss: 6.7163 - accuracy: 0.0546\n",
      "Epoch 4/250\n",
      "89/89 [==============================] - 2s 24ms/step - loss: 6.6181 - accuracy: 0.0546\n",
      "Epoch 5/250\n",
      "89/89 [==============================] - 2s 24ms/step - loss: 6.5013 - accuracy: 0.0554\n",
      "Epoch 6/250\n",
      "89/89 [==============================] - 2s 24ms/step - loss: 6.3722 - accuracy: 0.0619\n",
      "Epoch 7/250\n",
      "89/89 [==============================] - 2s 24ms/step - loss: 6.2853 - accuracy: 0.0691\n",
      "Epoch 8/250\n",
      "89/89 [==============================] - 2s 25ms/step - loss: 6.2179 - accuracy: 0.0714\n",
      "Epoch 9/250\n",
      "89/89 [==============================] - 2s 26ms/step - loss: 6.1610 - accuracy: 0.0744\n",
      "Epoch 10/250\n",
      "89/89 [==============================] - 2s 24ms/step - loss: 6.1139 - accuracy: 0.0760\n",
      "Epoch 11/250\n",
      "89/89 [==============================] - 2s 24ms/step - loss: 6.0669 - accuracy: 0.0774\n",
      "Epoch 12/250\n",
      "89/89 [==============================] - 2s 24ms/step - loss: 6.0213 - accuracy: 0.0780\n",
      "Epoch 13/250\n",
      "89/89 [==============================] - 2s 25ms/step - loss: 5.9708 - accuracy: 0.0799\n",
      "Epoch 14/250\n",
      "89/89 [==============================] - 2s 24ms/step - loss: 5.9167 - accuracy: 0.0815\n",
      "Epoch 15/250\n",
      "89/89 [==============================] - 2s 24ms/step - loss: 5.8608 - accuracy: 0.0832\n",
      "Epoch 16/250\n",
      "89/89 [==============================] - 2s 24ms/step - loss: 5.8016 - accuracy: 0.0852\n",
      "Epoch 17/250\n",
      "89/89 [==============================] - 2s 24ms/step - loss: 5.7430 - accuracy: 0.0873\n",
      "Epoch 18/250\n",
      "89/89 [==============================] - 2s 25ms/step - loss: 5.6836 - accuracy: 0.0909\n",
      "Epoch 19/250\n",
      "89/89 [==============================] - 2s 24ms/step - loss: 5.6305 - accuracy: 0.0924\n",
      "Epoch 20/250\n",
      "89/89 [==============================] - 2s 24ms/step - loss: 5.5727 - accuracy: 0.0974\n",
      "Epoch 21/250\n",
      "89/89 [==============================] - 2s 24ms/step - loss: 5.5169 - accuracy: 0.0995\n",
      "Epoch 22/250\n",
      "89/89 [==============================] - 2s 24ms/step - loss: 5.4578 - accuracy: 0.1012\n",
      "Epoch 23/250\n",
      "89/89 [==============================] - 2s 25ms/step - loss: 5.3962 - accuracy: 0.1039\n",
      "Epoch 24/250\n",
      "89/89 [==============================] - 2s 26ms/step - loss: 5.3400 - accuracy: 0.1063\n",
      "Epoch 25/250\n",
      "89/89 [==============================] - 2s 24ms/step - loss: 5.2871 - accuracy: 0.1079\n",
      "Epoch 26/250\n",
      "89/89 [==============================] - 2s 24ms/step - loss: 5.2344 - accuracy: 0.1090\n",
      "Epoch 27/250\n",
      "89/89 [==============================] - 2s 24ms/step - loss: 5.1886 - accuracy: 0.1111\n",
      "Epoch 28/250\n",
      "89/89 [==============================] - 2s 25ms/step - loss: 5.1399 - accuracy: 0.1132\n",
      "Epoch 29/250\n",
      "89/89 [==============================] - 2s 24ms/step - loss: 5.1013 - accuracy: 0.1149\n",
      "Epoch 30/250\n",
      "89/89 [==============================] - 2s 24ms/step - loss: 5.0635 - accuracy: 0.1161\n",
      "Epoch 31/250\n",
      "89/89 [==============================] - 2s 24ms/step - loss: 5.0190 - accuracy: 0.1178\n",
      "Epoch 32/250\n",
      "89/89 [==============================] - 2s 24ms/step - loss: 4.9778 - accuracy: 0.1194\n",
      "Epoch 33/250\n",
      "89/89 [==============================] - 2s 25ms/step - loss: 4.9356 - accuracy: 0.1209\n",
      "Epoch 34/250\n",
      "89/89 [==============================] - 2s 25ms/step - loss: 4.8972 - accuracy: 0.1221\n",
      "Epoch 35/250\n",
      "89/89 [==============================] - 2s 24ms/step - loss: 4.8557 - accuracy: 0.1233\n",
      "Epoch 36/250\n",
      "89/89 [==============================] - 2s 24ms/step - loss: 4.8219 - accuracy: 0.1245\n",
      "Epoch 37/250\n",
      "89/89 [==============================] - 2s 24ms/step - loss: 4.7838 - accuracy: 0.1257\n",
      "Epoch 38/250\n",
      "89/89 [==============================] - 2s 25ms/step - loss: 4.7472 - accuracy: 0.1266\n",
      "Epoch 39/250\n",
      "89/89 [==============================] - 2s 26ms/step - loss: 4.7121 - accuracy: 0.1285\n",
      "Epoch 40/250\n",
      "89/89 [==============================] - 2s 24ms/step - loss: 4.6786 - accuracy: 0.1313\n",
      "Epoch 41/250\n",
      "89/89 [==============================] - 2s 24ms/step - loss: 4.6403 - accuracy: 0.1323\n",
      "Epoch 42/250\n",
      "89/89 [==============================] - 2s 24ms/step - loss: 4.6120 - accuracy: 0.1345\n",
      "Epoch 43/250\n",
      "89/89 [==============================] - 2s 25ms/step - loss: 4.7905 - accuracy: 0.1277\n",
      "Epoch 44/250\n",
      "89/89 [==============================] - 2s 24ms/step - loss: 4.6509 - accuracy: 0.1323\n",
      "Epoch 45/250\n",
      "89/89 [==============================] - 2s 24ms/step - loss: 4.5905 - accuracy: 0.1341\n",
      "Epoch 46/250\n",
      "89/89 [==============================] - 2s 24ms/step - loss: 4.5818 - accuracy: 0.1355\n",
      "Epoch 47/250\n",
      "89/89 [==============================] - 2s 24ms/step - loss: 4.4790 - accuracy: 0.1412\n",
      "Epoch 48/250\n",
      "89/89 [==============================] - 2s 24ms/step - loss: 4.4269 - accuracy: 0.1448\n",
      "Epoch 49/250\n",
      "89/89 [==============================] - 2s 25ms/step - loss: 4.3821 - accuracy: 0.1463\n",
      "Epoch 50/250\n",
      "89/89 [==============================] - 2s 24ms/step - loss: 4.3422 - accuracy: 0.1498\n",
      "Epoch 51/250\n",
      "89/89 [==============================] - 2s 24ms/step - loss: 4.3038 - accuracy: 0.1543\n",
      "Epoch 52/250\n",
      "89/89 [==============================] - 2s 24ms/step - loss: 4.2690 - accuracy: 0.1555\n",
      "Epoch 53/250\n",
      "89/89 [==============================] - 2s 24ms/step - loss: 4.2307 - accuracy: 0.1599\n",
      "Epoch 54/250\n",
      "89/89 [==============================] - 2s 28ms/step - loss: 4.1973 - accuracy: 0.1626\n",
      "Epoch 55/250\n",
      "89/89 [==============================] - 2s 24ms/step - loss: 4.1616 - accuracy: 0.1664\n",
      "Epoch 56/250\n",
      "89/89 [==============================] - 2s 24ms/step - loss: 4.1298 - accuracy: 0.1685\n",
      "Epoch 57/250\n",
      "89/89 [==============================] - 2s 24ms/step - loss: 4.0939 - accuracy: 0.1722\n",
      "Epoch 58/250\n",
      "89/89 [==============================] - 2s 24ms/step - loss: 4.0623 - accuracy: 0.1763\n",
      "Epoch 59/250\n",
      "89/89 [==============================] - 2s 25ms/step - loss: 4.0344 - accuracy: 0.1793\n",
      "Epoch 60/250\n",
      "89/89 [==============================] - 2s 24ms/step - loss: 3.9986 - accuracy: 0.1833\n",
      "Epoch 61/250\n",
      "89/89 [==============================] - 2s 24ms/step - loss: 3.9684 - accuracy: 0.1882\n",
      "Epoch 62/250\n",
      "89/89 [==============================] - 2s 24ms/step - loss: 3.9346 - accuracy: 0.1926\n",
      "Epoch 63/250\n",
      "89/89 [==============================] - 2s 24ms/step - loss: 3.9083 - accuracy: 0.1971\n",
      "Epoch 64/250\n",
      "89/89 [==============================] - 2s 25ms/step - loss: 3.8788 - accuracy: 0.1985\n",
      "Epoch 65/250\n",
      "89/89 [==============================] - 2s 24ms/step - loss: 4.0019 - accuracy: 0.1895\n",
      "Epoch 66/250\n",
      "89/89 [==============================] - 2s 24ms/step - loss: 3.9068 - accuracy: 0.1964\n",
      "Epoch 67/250\n",
      "89/89 [==============================] - 2s 24ms/step - loss: 3.8431 - accuracy: 0.2039\n",
      "Epoch 68/250\n",
      "89/89 [==============================] - 2s 24ms/step - loss: 3.7947 - accuracy: 0.2101\n",
      "Epoch 69/250\n",
      "89/89 [==============================] - 2s 26ms/step - loss: 3.7553 - accuracy: 0.2132\n",
      "Epoch 70/250\n",
      "89/89 [==============================] - 2s 25ms/step - loss: 3.7412 - accuracy: 0.2191\n",
      "Epoch 71/250\n",
      "89/89 [==============================] - 2s 24ms/step - loss: 3.7089 - accuracy: 0.2208\n",
      "Epoch 72/250\n",
      "89/89 [==============================] - 2s 24ms/step - loss: 3.6648 - accuracy: 0.2288\n",
      "Epoch 73/250\n",
      "89/89 [==============================] - 2s 24ms/step - loss: 3.6240 - accuracy: 0.2321\n",
      "Epoch 74/250\n",
      "89/89 [==============================] - 2s 26ms/step - loss: 3.5884 - accuracy: 0.2370\n",
      "Epoch 75/250\n",
      "89/89 [==============================] - 2s 24ms/step - loss: 3.5482 - accuracy: 0.2442\n",
      "Epoch 76/250\n",
      "89/89 [==============================] - 2s 24ms/step - loss: 3.5175 - accuracy: 0.2484\n",
      "Epoch 77/250\n",
      "89/89 [==============================] - 2s 24ms/step - loss: 3.4838 - accuracy: 0.2533\n",
      "Epoch 78/250\n",
      "89/89 [==============================] - 2s 24ms/step - loss: 3.4464 - accuracy: 0.2580\n",
      "Epoch 79/250\n",
      "89/89 [==============================] - 2s 25ms/step - loss: 3.4149 - accuracy: 0.2638\n",
      "Epoch 80/250\n",
      "89/89 [==============================] - 2s 24ms/step - loss: 3.3820 - accuracy: 0.2690\n",
      "Epoch 81/250\n",
      "89/89 [==============================] - 2s 24ms/step - loss: 3.3505 - accuracy: 0.2736\n",
      "Epoch 82/250\n",
      "89/89 [==============================] - 2s 24ms/step - loss: 3.3183 - accuracy: 0.2802\n",
      "Epoch 83/250\n",
      "89/89 [==============================] - 2s 24ms/step - loss: 3.2926 - accuracy: 0.2846\n",
      "Epoch 84/250\n",
      "89/89 [==============================] - 2s 26ms/step - loss: 3.2618 - accuracy: 0.2892\n",
      "Epoch 85/250\n",
      "89/89 [==============================] - 2s 26ms/step - loss: 3.2284 - accuracy: 0.2935\n",
      "Epoch 86/250\n",
      "89/89 [==============================] - 2s 24ms/step - loss: 3.2039 - accuracy: 0.2989\n",
      "Epoch 87/250\n",
      "89/89 [==============================] - 2s 24ms/step - loss: 3.1760 - accuracy: 0.3051\n",
      "Epoch 88/250\n",
      "89/89 [==============================] - 2s 24ms/step - loss: 3.1517 - accuracy: 0.3065\n",
      "Epoch 89/250\n",
      "89/89 [==============================] - 2s 25ms/step - loss: 3.1254 - accuracy: 0.3121\n",
      "Epoch 90/250\n",
      "89/89 [==============================] - 2s 24ms/step - loss: 3.0992 - accuracy: 0.3160\n",
      "Epoch 91/250\n",
      "89/89 [==============================] - 2s 24ms/step - loss: 3.0930 - accuracy: 0.3192\n",
      "Epoch 92/250\n",
      "89/89 [==============================] - 2s 24ms/step - loss: 3.0680 - accuracy: 0.3235\n",
      "Epoch 93/250\n",
      "89/89 [==============================] - 2s 24ms/step - loss: 3.0335 - accuracy: 0.3298\n",
      "Epoch 94/250\n",
      "89/89 [==============================] - 2s 25ms/step - loss: 3.0062 - accuracy: 0.3360\n",
      "Epoch 95/250\n",
      "89/89 [==============================] - 2s 24ms/step - loss: 3.2117 - accuracy: 0.3040\n",
      "Epoch 96/250\n",
      "89/89 [==============================] - 2s 24ms/step - loss: 3.2257 - accuracy: 0.3014\n",
      "Epoch 97/250\n",
      "89/89 [==============================] - 2s 24ms/step - loss: 3.1855 - accuracy: 0.3041\n",
      "Epoch 98/250\n",
      "89/89 [==============================] - 2s 24ms/step - loss: 3.1473 - accuracy: 0.3096\n",
      "Epoch 99/250\n",
      "89/89 [==============================] - 2s 25ms/step - loss: 3.1153 - accuracy: 0.3164\n",
      "Epoch 100/250\n",
      "89/89 [==============================] - 2s 27ms/step - loss: 3.0902 - accuracy: 0.3230\n",
      "Epoch 101/250\n",
      "89/89 [==============================] - 2s 24ms/step - loss: 3.0673 - accuracy: 0.3270\n",
      "Epoch 102/250\n",
      "89/89 [==============================] - 2s 24ms/step - loss: 3.0404 - accuracy: 0.3322\n",
      "Epoch 103/250\n",
      "89/89 [==============================] - 2s 24ms/step - loss: 3.0162 - accuracy: 0.3348\n",
      "Epoch 104/250\n",
      "89/89 [==============================] - 2s 25ms/step - loss: 2.9918 - accuracy: 0.3379\n",
      "Epoch 105/250\n",
      "89/89 [==============================] - 2s 24ms/step - loss: 2.9736 - accuracy: 0.3413\n",
      "Epoch 106/250\n",
      "89/89 [==============================] - 2s 24ms/step - loss: 2.9554 - accuracy: 0.3464\n",
      "Epoch 107/250\n",
      "89/89 [==============================] - 2s 24ms/step - loss: 2.9395 - accuracy: 0.3481\n",
      "Epoch 108/250\n",
      "89/89 [==============================] - 2s 24ms/step - loss: 2.9191 - accuracy: 0.3529\n",
      "Epoch 109/250\n",
      "89/89 [==============================] - 2s 25ms/step - loss: 2.8996 - accuracy: 0.3541\n",
      "Epoch 110/250\n",
      "89/89 [==============================] - 2s 24ms/step - loss: 2.8786 - accuracy: 0.3602\n",
      "Epoch 111/250\n",
      "89/89 [==============================] - 2s 24ms/step - loss: 2.8604 - accuracy: 0.3624\n",
      "Epoch 112/250\n",
      "89/89 [==============================] - 2s 24ms/step - loss: 2.8371 - accuracy: 0.3667\n",
      "Epoch 113/250\n",
      "89/89 [==============================] - 2s 24ms/step - loss: 2.8198 - accuracy: 0.3704\n",
      "Epoch 114/250\n",
      "89/89 [==============================] - 2s 25ms/step - loss: 2.7974 - accuracy: 0.3747\n",
      "Epoch 115/250\n",
      "89/89 [==============================] - 2s 26ms/step - loss: 2.7867 - accuracy: 0.3748\n",
      "Epoch 116/250\n",
      "89/89 [==============================] - 2s 24ms/step - loss: 2.7683 - accuracy: 0.3792\n",
      "Epoch 117/250\n",
      "89/89 [==============================] - 2s 24ms/step - loss: 2.7480 - accuracy: 0.3824\n",
      "Epoch 118/250\n",
      "89/89 [==============================] - 2s 24ms/step - loss: 2.7305 - accuracy: 0.3881\n",
      "Epoch 119/250\n",
      "89/89 [==============================] - 2s 25ms/step - loss: 2.7143 - accuracy: 0.3893\n",
      "Epoch 120/250\n",
      "89/89 [==============================] - 2s 24ms/step - loss: 2.7027 - accuracy: 0.3907\n",
      "Epoch 121/250\n",
      "89/89 [==============================] - 2s 24ms/step - loss: 2.6770 - accuracy: 0.3956\n",
      "Epoch 122/250\n",
      "89/89 [==============================] - 2s 24ms/step - loss: 2.6622 - accuracy: 0.3980\n",
      "Epoch 123/250\n",
      "89/89 [==============================] - 2s 24ms/step - loss: 2.6459 - accuracy: 0.4012\n",
      "Epoch 124/250\n",
      "89/89 [==============================] - 2s 25ms/step - loss: 2.6345 - accuracy: 0.4056\n",
      "Epoch 125/250\n",
      "89/89 [==============================] - 2s 24ms/step - loss: 2.6099 - accuracy: 0.4095\n",
      "Epoch 126/250\n",
      "89/89 [==============================] - 2s 24ms/step - loss: 2.5940 - accuracy: 0.4119\n",
      "Epoch 127/250\n",
      "89/89 [==============================] - 2s 24ms/step - loss: 2.5932 - accuracy: 0.4134\n",
      "Epoch 128/250\n",
      "89/89 [==============================] - 2s 24ms/step - loss: 2.5798 - accuracy: 0.4127\n",
      "Epoch 129/250\n",
      "89/89 [==============================] - 2s 24ms/step - loss: 2.6134 - accuracy: 0.4106\n",
      "Epoch 130/250\n",
      "89/89 [==============================] - 2s 27ms/step - loss: 2.6979 - accuracy: 0.4017\n",
      "Epoch 131/250\n",
      "89/89 [==============================] - 2s 24ms/step - loss: 2.7484 - accuracy: 0.3913\n",
      "Epoch 132/250\n",
      "89/89 [==============================] - 2s 24ms/step - loss: 2.6498 - accuracy: 0.4059\n",
      "Epoch 133/250\n",
      "89/89 [==============================] - 2s 24ms/step - loss: 2.6046 - accuracy: 0.4149\n",
      "Epoch 134/250\n",
      "89/89 [==============================] - 2s 24ms/step - loss: 2.5655 - accuracy: 0.4201\n",
      "Epoch 135/250\n",
      "89/89 [==============================] - 2s 25ms/step - loss: 2.5305 - accuracy: 0.4253\n",
      "Epoch 136/250\n",
      "89/89 [==============================] - 2s 24ms/step - loss: 2.4955 - accuracy: 0.4315\n",
      "Epoch 137/250\n",
      "89/89 [==============================] - 2s 24ms/step - loss: 2.4689 - accuracy: 0.4356\n",
      "Epoch 138/250\n",
      "89/89 [==============================] - 2s 24ms/step - loss: 2.5450 - accuracy: 0.4316\n",
      "Epoch 139/250\n",
      "89/89 [==============================] - 2s 24ms/step - loss: 2.6316 - accuracy: 0.4168\n",
      "Epoch 140/250\n",
      "89/89 [==============================] - 2s 25ms/step - loss: 2.5703 - accuracy: 0.4229\n",
      "Epoch 141/250\n",
      "89/89 [==============================] - 2s 24ms/step - loss: 2.5289 - accuracy: 0.4316\n",
      "Epoch 142/250\n",
      "89/89 [==============================] - 2s 24ms/step - loss: 2.5011 - accuracy: 0.4352\n",
      "Epoch 143/250\n",
      "89/89 [==============================] - 2s 24ms/step - loss: 2.4561 - accuracy: 0.4415\n",
      "Epoch 144/250\n",
      "89/89 [==============================] - 2s 24ms/step - loss: 2.4348 - accuracy: 0.4463\n",
      "Epoch 145/250\n",
      "89/89 [==============================] - 2s 27ms/step - loss: 2.5810 - accuracy: 0.4292 0s - loss: 2.5526 - \n",
      "Epoch 146/250\n",
      "89/89 [==============================] - 2s 24ms/step - loss: 2.5488 - accuracy: 0.4304\n",
      "Epoch 147/250\n",
      "89/89 [==============================] - 2s 24ms/step - loss: 2.4922 - accuracy: 0.4388\n",
      "Epoch 148/250\n",
      "89/89 [==============================] - 2s 24ms/step - loss: 3.2113 - accuracy: 0.3278\n",
      "Epoch 149/250\n",
      "89/89 [==============================] - 2s 24ms/step - loss: 3.4660 - accuracy: 0.2573\n",
      "Epoch 150/250\n",
      "89/89 [==============================] - 2s 25ms/step - loss: 3.0434 - accuracy: 0.3229\n",
      "Epoch 151/250\n",
      "89/89 [==============================] - 2s 24ms/step - loss: 2.9070 - accuracy: 0.3498\n",
      "Epoch 152/250\n",
      "89/89 [==============================] - 2s 24ms/step - loss: 2.8237 - accuracy: 0.3649\n",
      "Epoch 153/250\n",
      "89/89 [==============================] - 2s 24ms/step - loss: 2.7536 - accuracy: 0.3778\n",
      "Epoch 154/250\n",
      "89/89 [==============================] - 2s 24ms/step - loss: 2.7206 - accuracy: 0.3859\n",
      "Epoch 155/250\n",
      "89/89 [==============================] - 2s 25ms/step - loss: 2.6727 - accuracy: 0.3925\n",
      "Epoch 156/250\n",
      "89/89 [==============================] - 2s 24ms/step - loss: 2.8068 - accuracy: 0.3693\n",
      "Epoch 157/250\n",
      "89/89 [==============================] - 2s 24ms/step - loss: 2.7906 - accuracy: 0.3710\n",
      "Epoch 158/250\n",
      "89/89 [==============================] - 2s 24ms/step - loss: 2.7214 - accuracy: 0.3828\n",
      "Epoch 159/250\n",
      "89/89 [==============================] - 2s 24ms/step - loss: 2.9143 - accuracy: 0.3473\n",
      "Epoch 160/250\n",
      "89/89 [==============================] - 2s 27ms/step - loss: 2.8959 - accuracy: 0.3470\n",
      "Epoch 161/250\n",
      "89/89 [==============================] - 2s 25ms/step - loss: 2.5968 - accuracy: 0.4017\n",
      "Epoch 162/250\n",
      "89/89 [==============================] - 2s 24ms/step - loss: 2.5349 - accuracy: 0.4169\n",
      "Epoch 163/250\n",
      "89/89 [==============================] - 2s 24ms/step - loss: 2.4894 - accuracy: 0.4254\n",
      "Epoch 164/250\n",
      "89/89 [==============================] - 2s 24ms/step - loss: 2.4459 - accuracy: 0.4360\n",
      "Epoch 165/250\n",
      "89/89 [==============================] - 2s 26ms/step - loss: 2.4893 - accuracy: 0.4271\n",
      "Epoch 166/250\n",
      "89/89 [==============================] - 2s 24ms/step - loss: 2.5625 - accuracy: 0.4154\n",
      "Epoch 167/250\n",
      "89/89 [==============================] - 2s 24ms/step - loss: 2.5119 - accuracy: 0.4243\n",
      "Epoch 168/250\n",
      "89/89 [==============================] - 2s 24ms/step - loss: 2.4709 - accuracy: 0.4331\n",
      "Epoch 169/250\n",
      "89/89 [==============================] - 2s 24ms/step - loss: 2.4758 - accuracy: 0.4301\n",
      "Epoch 170/250\n",
      "89/89 [==============================] - 2s 25ms/step - loss: 2.4388 - accuracy: 0.4371\n",
      "Epoch 171/250\n",
      "89/89 [==============================] - 2s 24ms/step - loss: 2.3425 - accuracy: 0.4517\n",
      "Epoch 172/250\n",
      "89/89 [==============================] - 2s 24ms/step - loss: 2.2885 - accuracy: 0.4647\n",
      "Epoch 173/250\n",
      "89/89 [==============================] - 2s 24ms/step - loss: 2.2465 - accuracy: 0.4760\n",
      "Epoch 174/250\n",
      "89/89 [==============================] - 2s 24ms/step - loss: 2.2590 - accuracy: 0.4733\n",
      "Epoch 175/250\n",
      "89/89 [==============================] - 2s 26ms/step - loss: 2.2684 - accuracy: 0.4718\n",
      "Epoch 176/250\n",
      "89/89 [==============================] - 2s 26ms/step - loss: 2.2016 - accuracy: 0.4817\n",
      "Epoch 177/250\n",
      "89/89 [==============================] - 2s 24ms/step - loss: 2.2899 - accuracy: 0.4676\n",
      "Epoch 178/250\n",
      "89/89 [==============================] - 2s 24ms/step - loss: 2.5428 - accuracy: 0.4178\n",
      "Epoch 179/250\n",
      "89/89 [==============================] - 2s 24ms/step - loss: 2.4247 - accuracy: 0.4413\n",
      "Epoch 180/250\n",
      "89/89 [==============================] - 2s 25ms/step - loss: 2.3548 - accuracy: 0.4550\n",
      "Epoch 181/250\n",
      "89/89 [==============================] - 2s 24ms/step - loss: 2.3056 - accuracy: 0.4644\n",
      "Epoch 182/250\n",
      "89/89 [==============================] - 2s 24ms/step - loss: 2.2627 - accuracy: 0.4754\n",
      "Epoch 183/250\n",
      "89/89 [==============================] - 2s 24ms/step - loss: 2.2255 - accuracy: 0.4830\n",
      "Epoch 184/250\n",
      "89/89 [==============================] - 2s 24ms/step - loss: 2.1963 - accuracy: 0.4875\n",
      "Epoch 185/250\n",
      "89/89 [==============================] - 2s 25ms/step - loss: 2.1650 - accuracy: 0.4938\n",
      "Epoch 186/250\n",
      "89/89 [==============================] - 2s 24ms/step - loss: 2.1394 - accuracy: 0.4993\n",
      "Epoch 187/250\n",
      "89/89 [==============================] - 2s 24ms/step - loss: 2.1159 - accuracy: 0.5034\n",
      "Epoch 188/250\n",
      "89/89 [==============================] - 2s 24ms/step - loss: 2.0908 - accuracy: 0.5073\n",
      "Epoch 189/250\n",
      "89/89 [==============================] - 2s 24ms/step - loss: 2.0917 - accuracy: 0.5024\n",
      "Epoch 190/250\n",
      "89/89 [==============================] - 2s 25ms/step - loss: 2.0365 - accuracy: 0.5170\n",
      "Epoch 191/250\n",
      "89/89 [==============================] - 2s 26ms/step - loss: 1.9996 - accuracy: 0.5229\n",
      "Epoch 192/250\n",
      "89/89 [==============================] - 2s 24ms/step - loss: 1.9655 - accuracy: 0.5346\n",
      "Epoch 193/250\n",
      "89/89 [==============================] - 2s 24ms/step - loss: 1.9434 - accuracy: 0.5386\n",
      "Epoch 194/250\n",
      "89/89 [==============================] - 2s 24ms/step - loss: 1.9182 - accuracy: 0.5444\n",
      "Epoch 195/250\n",
      "89/89 [==============================] - 2s 25ms/step - loss: 1.8894 - accuracy: 0.5478\n",
      "Epoch 196/250\n",
      "89/89 [==============================] - 2s 24ms/step - loss: 1.8656 - accuracy: 0.5551\n",
      "Epoch 197/250\n",
      "89/89 [==============================] - 2s 24ms/step - loss: 1.8546 - accuracy: 0.5591\n",
      "Epoch 198/250\n",
      "89/89 [==============================] - 2s 24ms/step - loss: 1.8484 - accuracy: 0.5578\n",
      "Epoch 199/250\n",
      "89/89 [==============================] - 2s 24ms/step - loss: 1.8225 - accuracy: 0.5630\n",
      "Epoch 200/250\n",
      "89/89 [==============================] - 2s 25ms/step - loss: 1.7989 - accuracy: 0.5687\n",
      "Epoch 201/250\n",
      "89/89 [==============================] - 2s 24ms/step - loss: 1.7826 - accuracy: 0.5728\n",
      "Epoch 202/250\n",
      "89/89 [==============================] - 2s 24ms/step - loss: 1.7593 - accuracy: 0.5780\n",
      "Epoch 203/250\n",
      "89/89 [==============================] - 2s 24ms/step - loss: 1.7547 - accuracy: 0.5779\n",
      "Epoch 204/250\n",
      "89/89 [==============================] - 2s 24ms/step - loss: 1.7311 - accuracy: 0.5848\n",
      "Epoch 205/250\n",
      "89/89 [==============================] - 2s 25ms/step - loss: 1.7090 - accuracy: 0.5900\n",
      "Epoch 206/250\n",
      "89/89 [==============================] - 2s 27ms/step - loss: 1.6885 - accuracy: 0.5951\n",
      "Epoch 207/250\n",
      "89/89 [==============================] - 2s 24ms/step - loss: 1.6733 - accuracy: 0.5968\n",
      "Epoch 208/250\n",
      "89/89 [==============================] - 2s 24ms/step - loss: 1.6739 - accuracy: 0.5970\n",
      "Epoch 209/250\n",
      "89/89 [==============================] - 2s 24ms/step - loss: 1.6728 - accuracy: 0.5968\n",
      "Epoch 210/250\n",
      "89/89 [==============================] - 2s 25ms/step - loss: 1.6545 - accuracy: 0.5994\n",
      "Epoch 211/250\n",
      "89/89 [==============================] - 2s 24ms/step - loss: 1.6429 - accuracy: 0.6043\n",
      "Epoch 212/250\n",
      "89/89 [==============================] - 2s 24ms/step - loss: 1.6138 - accuracy: 0.6113\n",
      "Epoch 213/250\n",
      "89/89 [==============================] - 2s 24ms/step - loss: 1.6141 - accuracy: 0.6117\n",
      "Epoch 214/250\n",
      "89/89 [==============================] - 2s 24ms/step - loss: 1.6027 - accuracy: 0.6117\n",
      "Epoch 215/250\n",
      "89/89 [==============================] - 2s 25ms/step - loss: 1.5701 - accuracy: 0.6201\n",
      "Epoch 216/250\n",
      "89/89 [==============================] - 2s 24ms/step - loss: 1.5671 - accuracy: 0.6232\n",
      "Epoch 217/250\n",
      "89/89 [==============================] - 2s 24ms/step - loss: 1.5669 - accuracy: 0.6230\n",
      "Epoch 218/250\n",
      "89/89 [==============================] - 2s 24ms/step - loss: 1.5392 - accuracy: 0.6276\n",
      "Epoch 219/250\n",
      "89/89 [==============================] - 2s 24ms/step - loss: 1.5108 - accuracy: 0.6352\n",
      "Epoch 220/250\n",
      "89/89 [==============================] - 2s 25ms/step - loss: 1.4883 - accuracy: 0.6406\n",
      "Epoch 221/250\n",
      "89/89 [==============================] - 2s 27ms/step - loss: 1.4688 - accuracy: 0.6473\n",
      "Epoch 222/250\n",
      "89/89 [==============================] - 2s 24ms/step - loss: 1.4484 - accuracy: 0.6494\n",
      "Epoch 223/250\n",
      "89/89 [==============================] - 2s 24ms/step - loss: 1.4271 - accuracy: 0.6557\n",
      "Epoch 224/250\n",
      "89/89 [==============================] - 2s 24ms/step - loss: 1.4117 - accuracy: 0.6576\n",
      "Epoch 225/250\n",
      "89/89 [==============================] - 2s 25ms/step - loss: 1.4017 - accuracy: 0.6619\n",
      "Epoch 226/250\n",
      "89/89 [==============================] - 2s 25ms/step - loss: 1.3998 - accuracy: 0.6607\n",
      "Epoch 227/250\n",
      "89/89 [==============================] - 2s 24ms/step - loss: 1.3984 - accuracy: 0.6602\n",
      "Epoch 228/250\n",
      "89/89 [==============================] - 2s 24ms/step - loss: 1.4564 - accuracy: 0.6492\n",
      "Epoch 229/250\n",
      "89/89 [==============================] - 2s 24ms/step - loss: 1.4020 - accuracy: 0.6596\n",
      "Epoch 230/250\n",
      "89/89 [==============================] - 2s 25ms/step - loss: 1.3717 - accuracy: 0.6680\n",
      "Epoch 231/250\n",
      "89/89 [==============================] - 2s 25ms/step - loss: 1.3505 - accuracy: 0.6738\n",
      "Epoch 232/250\n",
      "89/89 [==============================] - 2s 24ms/step - loss: 1.4789 - accuracy: 0.6505\n",
      "Epoch 233/250\n",
      "89/89 [==============================] - 2s 24ms/step - loss: 1.5391 - accuracy: 0.6348\n",
      "Epoch 234/250\n",
      "89/89 [==============================] - 2s 24ms/step - loss: 1.4825 - accuracy: 0.6444\n",
      "Epoch 235/250\n",
      "89/89 [==============================] - 2s 25ms/step - loss: 1.3972 - accuracy: 0.6630\n",
      "Epoch 236/250\n",
      "89/89 [==============================] - 2s 27ms/step - loss: 1.3485 - accuracy: 0.6741\n",
      "Epoch 237/250\n",
      "89/89 [==============================] - 2s 24ms/step - loss: 1.3171 - accuracy: 0.6822\n",
      "Epoch 238/250\n",
      "89/89 [==============================] - 2s 24ms/step - loss: 1.5820 - accuracy: 0.6393\n",
      "Epoch 239/250\n",
      "89/89 [==============================] - 2s 24ms/step - loss: 1.8399 - accuracy: 0.5817\n",
      "Epoch 240/250\n",
      "89/89 [==============================] - 2s 25ms/step - loss: 1.7104 - accuracy: 0.5985\n",
      "Epoch 241/250\n",
      "89/89 [==============================] - 2s 24ms/step - loss: 1.6131 - accuracy: 0.6200\n",
      "Epoch 242/250\n",
      "89/89 [==============================] - 2s 24ms/step - loss: 1.5552 - accuracy: 0.6322\n",
      "Epoch 243/250\n",
      "89/89 [==============================] - 2s 24ms/step - loss: 1.5215 - accuracy: 0.6391\n",
      "Epoch 244/250\n",
      "89/89 [==============================] - 2s 24ms/step - loss: 1.5122 - accuracy: 0.6401\n",
      "Epoch 245/250\n",
      "89/89 [==============================] - 2s 25ms/step - loss: 1.4656 - accuracy: 0.6526\n",
      "Epoch 246/250\n",
      "89/89 [==============================] - 2s 24ms/step - loss: 1.4321 - accuracy: 0.6606\n",
      "Epoch 247/250\n",
      "89/89 [==============================] - 2s 24ms/step - loss: 1.4052 - accuracy: 0.6653\n",
      "Epoch 248/250\n",
      "89/89 [==============================] - 2s 24ms/step - loss: 1.3729 - accuracy: 0.6735\n",
      "Epoch 249/250\n",
      "89/89 [==============================] - 2s 24ms/step - loss: 1.3520 - accuracy: 0.6756\n",
      "Epoch 250/250\n",
      "89/89 [==============================] - 2s 24ms/step - loss: 1.3338 - accuracy: 0.6818\n"
     ]
    },
    {
     "data": {
      "text/plain": [
       "<keras.callbacks.History at 0x7fb0190f6e90>"
      ]
     },
     "execution_count": 54,
     "metadata": {},
     "output_type": "execute_result"
    }
   ],
   "source": [
    "model.fit(X, y, batch_size=512, epochs=250,verbose=1,validation_batch_size=.20)"
   ]
  },
  {
   "cell_type": "markdown",
   "metadata": {},
   "source": [
    "### Download Model Object"
   ]
  },
  {
   "cell_type": "code",
   "execution_count": 56,
   "metadata": {
    "execution": {
     "iopub.execute_input": "2021-11-20T16:36:24.975060Z",
     "iopub.status.busy": "2021-11-20T16:36:24.974328Z",
     "iopub.status.idle": "2021-11-20T16:36:24.979192Z",
     "shell.execute_reply": "2021-11-20T16:36:24.978045Z",
     "shell.execute_reply.started": "2021-11-20T16:36:24.975020Z"
    }
   },
   "outputs": [],
   "source": [
    "from pickle import dump,load"
   ]
  },
  {
   "cell_type": "code",
   "execution_count": 57,
   "metadata": {
    "execution": {
     "iopub.execute_input": "2021-11-20T16:36:26.302742Z",
     "iopub.status.busy": "2021-11-20T16:36:26.302455Z",
     "iopub.status.idle": "2021-11-20T16:36:26.383659Z",
     "shell.execute_reply": "2021-11-20T16:36:26.382891Z",
     "shell.execute_reply.started": "2021-11-20T16:36:26.302709Z"
    },
    "scrolled": true
   },
   "outputs": [],
   "source": [
    "# save the model to file\n",
    "model.save('epochBIG.h5')\n",
    "# save the tokenizer\n",
    "dump(tokenizer, open('epochBIG', 'wb'))"
   ]
  },
  {
   "cell_type": "markdown",
   "metadata": {},
   "source": [
    "## 6. Generating New Text"
   ]
  },
  {
   "cell_type": "code",
   "execution_count": 58,
   "metadata": {
    "execution": {
     "iopub.execute_input": "2021-11-20T16:36:52.786654Z",
     "iopub.status.busy": "2021-11-20T16:36:52.786375Z",
     "iopub.status.idle": "2021-11-20T16:36:52.791214Z",
     "shell.execute_reply": "2021-11-20T16:36:52.790094Z",
     "shell.execute_reply.started": "2021-11-20T16:36:52.786620Z"
    }
   },
   "outputs": [],
   "source": [
    "from random import randint\n",
    "from pickle import load\n",
    "from keras.models import load_model\n",
    "from keras.preprocessing.sequence import pad_sequences"
   ]
  },
  {
   "cell_type": "code",
   "execution_count": 59,
   "metadata": {
    "execution": {
     "iopub.execute_input": "2021-11-20T16:37:16.771678Z",
     "iopub.status.busy": "2021-11-20T16:37:16.771265Z",
     "iopub.status.idle": "2021-11-20T16:37:16.782743Z",
     "shell.execute_reply": "2021-11-20T16:37:16.781849Z",
     "shell.execute_reply.started": "2021-11-20T16:37:16.771633Z"
    }
   },
   "outputs": [],
   "source": [
    "def generate_text(model, tokenizer, seq_len, seed_text, num_gen_words):\n",
    "    '''\n",
    "    INPUTS:\n",
    "    model : model that was trained on text data\n",
    "    tokenizer : tokenizer that was fit on text data\n",
    "    seq_len : length of training sequence\n",
    "    seed_text : raw string text to serve as the seed\n",
    "    num_gen_words : number of words to be generated by model\n",
    "    '''\n",
    "    \n",
    "    # Final Output\n",
    "    output_text = []\n",
    "    \n",
    "    # Intial Seed Sequence\n",
    "    input_text = seed_text\n",
    "    \n",
    "    # Create num_gen_words\n",
    "    for i in range(num_gen_words):\n",
    "        \n",
    "        # Take the input text string and encode it to a sequence\n",
    "        encoded_text = tokenizer.texts_to_sequences([input_text])[0]\n",
    "        \n",
    "        # Pad sequences to our trained rate (25 words in the video)\n",
    "        pad_encoded = pad_sequences([encoded_text], maxlen=seq_len, truncating='pre')\n",
    "        \n",
    "        # Predict Class Probabilities for each word\n",
    "        #pred_word_ind = model.predict_classes(pad_encoded, verbose=0)[0]\n",
    "        predict_x=model.predict(pad_encoded) \n",
    "        pred_word_ind=np.argmax(predict_x,axis=1)[0]\n",
    "        #print(pred_word_ind)\n",
    "        # Grab word\n",
    "        pred_word = tokenizer.index_word[pred_word_ind] \n",
    "        \n",
    "        # Update the sequence of input text (shifting one over with the new word)\n",
    "        input_text += ' ' + pred_word\n",
    "        \n",
    "        output_text.append(pred_word)\n",
    "        \n",
    "    # Make it look like a sentence.\n",
    "    return ' '.join(output_text)"
   ]
  },
  {
   "cell_type": "markdown",
   "metadata": {},
   "source": [
    "## 7. Grab a random Text Sequence"
   ]
  },
  {
   "cell_type": "code",
   "execution_count": 61,
   "metadata": {
    "execution": {
     "iopub.execute_input": "2021-11-20T16:37:28.126713Z",
     "iopub.status.busy": "2021-11-20T16:37:28.126442Z",
     "iopub.status.idle": "2021-11-20T16:37:28.131913Z",
     "shell.execute_reply": "2021-11-20T16:37:28.131128Z",
     "shell.execute_reply.started": "2021-11-20T16:37:28.126681Z"
    }
   },
   "outputs": [
    {
     "name": "stdout",
     "output_type": "stream",
     "text": [
      "['chapter', '1', 'loomings', 'call', 'me', 'ishmael', 'some', 'years', 'ago', 'never', 'mind', 'how', 'long', 'precisely', 'having', 'little', 'or', 'no', 'money', 'in', 'my', 'purse', 'and', 'nothing', 'particular', 'to']\n"
     ]
    }
   ],
   "source": [
    "print(text_sequences[0])"
   ]
  },
  {
   "cell_type": "code",
   "execution_count": 62,
   "metadata": {
    "execution": {
     "iopub.execute_input": "2021-11-20T16:37:30.042068Z",
     "iopub.status.busy": "2021-11-20T16:37:30.041448Z",
     "iopub.status.idle": "2021-11-20T16:37:30.046434Z",
     "shell.execute_reply": "2021-11-20T16:37:30.045312Z",
     "shell.execute_reply.started": "2021-11-20T16:37:30.042021Z"
    }
   },
   "outputs": [],
   "source": [
    "import random\n",
    "random_pick = random.randint(0,len(text_sequences))"
   ]
  },
  {
   "cell_type": "code",
   "execution_count": 63,
   "metadata": {
    "execution": {
     "iopub.execute_input": "2021-11-20T16:37:31.845195Z",
     "iopub.status.busy": "2021-11-20T16:37:31.844613Z",
     "iopub.status.idle": "2021-11-20T16:37:31.848788Z",
     "shell.execute_reply": "2021-11-20T16:37:31.847994Z",
     "shell.execute_reply.started": "2021-11-20T16:37:31.845154Z"
    }
   },
   "outputs": [],
   "source": [
    "random_seed_text = text_sequences[random_pick]"
   ]
  },
  {
   "cell_type": "code",
   "execution_count": 65,
   "metadata": {
    "execution": {
     "iopub.execute_input": "2021-11-20T16:37:39.477576Z",
     "iopub.status.busy": "2021-11-20T16:37:39.477314Z",
     "iopub.status.idle": "2021-11-20T16:37:39.484502Z",
     "shell.execute_reply": "2021-11-20T16:37:39.482983Z",
     "shell.execute_reply.started": "2021-11-20T16:37:39.477544Z"
    }
   },
   "outputs": [
    {
     "name": "stdout",
     "output_type": "stream",
     "text": [
      "['events', 'soberly', 'recurred', 'one', 'by', 'one', 'in', 'fixed', 'reality', 'and', 'then', 'i', 'lay', 'only', 'alive', 'to', 'the', 'comical', 'predicament', 'for', 'though', 'i', 'tried', 'to', 'move', 'his']\n"
     ]
    }
   ],
   "source": [
    "print(random_seed_text)"
   ]
  },
  {
   "cell_type": "code",
   "execution_count": 66,
   "metadata": {
    "execution": {
     "iopub.execute_input": "2021-11-20T16:37:42.706493Z",
     "iopub.status.busy": "2021-11-20T16:37:42.706223Z",
     "iopub.status.idle": "2021-11-20T16:37:42.711981Z",
     "shell.execute_reply": "2021-11-20T16:37:42.710855Z",
     "shell.execute_reply.started": "2021-11-20T16:37:42.706461Z"
    }
   },
   "outputs": [
    {
     "data": {
      "text/plain": [
       "'events soberly recurred one by one in fixed reality and then i lay only alive to the comical predicament for though i tried to move his'"
      ]
     },
     "execution_count": 66,
     "metadata": {},
     "output_type": "execute_result"
    }
   ],
   "source": [
    "seed_text = ' '.join(random_seed_text)\n",
    "seed_text"
   ]
  },
  {
   "cell_type": "code",
   "execution_count": 67,
   "metadata": {
    "execution": {
     "iopub.execute_input": "2021-11-20T16:37:48.916602Z",
     "iopub.status.busy": "2021-11-20T16:37:48.916279Z",
     "iopub.status.idle": "2021-11-20T16:37:49.440778Z",
     "shell.execute_reply": "2021-11-20T16:37:49.440058Z",
     "shell.execute_reply.started": "2021-11-20T16:37:48.916564Z"
    }
   },
   "outputs": [],
   "source": [
    "model = load_model('epochBIG.h5')"
   ]
  },
  {
   "cell_type": "code",
   "execution_count": 68,
   "metadata": {
    "execution": {
     "iopub.execute_input": "2021-11-20T16:37:51.633597Z",
     "iopub.status.busy": "2021-11-20T16:37:51.633034Z",
     "iopub.status.idle": "2021-11-20T16:37:51.649065Z",
     "shell.execute_reply": "2021-11-20T16:37:51.648321Z",
     "shell.execute_reply.started": "2021-11-20T16:37:51.633554Z"
    }
   },
   "outputs": [],
   "source": [
    "tokenizer = load(open('epochBIG', 'rb'))"
   ]
  },
  {
   "cell_type": "code",
   "execution_count": 69,
   "metadata": {
    "execution": {
     "iopub.execute_input": "2021-11-20T16:38:11.752481Z",
     "iopub.status.busy": "2021-11-20T16:38:11.751635Z",
     "iopub.status.idle": "2021-11-20T16:38:12.459876Z",
     "shell.execute_reply": "2021-11-20T16:38:12.459188Z",
     "shell.execute_reply.started": "2021-11-20T16:38:11.752441Z"
    }
   },
   "outputs": [
    {
     "data": {
      "text/plain": [
       "'arm unlock his'"
      ]
     },
     "execution_count": 69,
     "metadata": {},
     "output_type": "execute_result"
    }
   ],
   "source": [
    "generate_text(model,tokenizer,seq_len,seed_text=seed_text,num_gen_words=3)"
   ]
  },
  {
   "cell_type": "code",
   "execution_count": 70,
   "metadata": {
    "execution": {
     "iopub.execute_input": "2021-11-20T16:39:20.486518Z",
     "iopub.status.busy": "2021-11-20T16:39:20.486263Z",
     "iopub.status.idle": "2021-11-20T16:39:20.490645Z",
     "shell.execute_reply": "2021-11-20T16:39:20.489963Z",
     "shell.execute_reply.started": "2021-11-20T16:39:20.486488Z"
    }
   },
   "outputs": [
    {
     "name": "stdout",
     "output_type": "stream",
     "text": [
      " It is a way I have of driving off the spleen and regulating the circulation.  Whenever I find\n"
     ]
    }
   ],
   "source": [
    "text=' It is a way I have of driving off the spleen and regulating the circulation.  Whenever I find'\n",
    "print(text)"
   ]
  },
  {
   "cell_type": "code",
   "execution_count": 71,
   "metadata": {
    "execution": {
     "iopub.execute_input": "2021-11-20T16:39:30.256826Z",
     "iopub.status.busy": "2021-11-20T16:39:30.256536Z",
     "iopub.status.idle": "2021-11-20T16:39:30.374387Z",
     "shell.execute_reply": "2021-11-20T16:39:30.373659Z",
     "shell.execute_reply.started": "2021-11-20T16:39:30.256774Z"
    }
   },
   "outputs": [
    {
     "data": {
      "text/plain": [
       "'myself growing grim'"
      ]
     },
     "execution_count": 71,
     "metadata": {},
     "output_type": "execute_result"
    }
   ],
   "source": [
    "generate_text(model,tokenizer,seq_len,seed_text=text,num_gen_words=3)"
   ]
  },
  {
   "cell_type": "code",
   "execution_count": 75,
   "metadata": {
    "execution": {
     "iopub.execute_input": "2021-11-20T16:41:47.973069Z",
     "iopub.status.busy": "2021-11-20T16:41:47.972215Z",
     "iopub.status.idle": "2021-11-20T16:41:47.982643Z",
     "shell.execute_reply": "2021-11-20T16:41:47.981155Z",
     "shell.execute_reply.started": "2021-11-20T16:41:47.973029Z"
    },
    "scrolled": true
   },
   "outputs": [
    {
     "name": "stdout",
     "output_type": "stream",
     "text": [
      "f the crew, were a far more barbaric, heathenish, and\n",
      "motley set than any of the tame merchant-ship companies which my\n",
      "previous experiences had made me acquainted with, still I ascribed\n",
      "this--and rightly ascribed it--to the fierce uniqueness of the very\n",
      "nature of that wild Scandinavian vocation in which I had so\n",
      "abandonedly embarked.  But it was especially the aspect of the three\n",
      "chief officers of the ship, the mates, which was most forcibly\n",
      "calculated to allay these colourless misgivings, and induce confidence\n",
      "and cheerfulness in every presentment of the voyage.  Three better,\n",
      "more likely sea-officers and men, each in his own different way,\n",
      "could not readily be found, and they were every one of them\n",
      "Americans; a Nantucketer, a Vineyarder, a Cape man.  Now, it being\n",
      "Christmas when the ship shot from out her harbor, for a space we had\n",
      "biting Polar weather, though all the time running away from it to the\n",
      "southward; and by every degree and minute of latitude which we\n",
      "sailed, gradually lea\n"
     ]
    }
   ],
   "source": [
    "print(read_file('/kaggle/input/nlp-specialization-data/Novel - Moby-Dick By Herman Melville.txt')[250000:251000])"
   ]
  },
  {
   "cell_type": "code",
   "execution_count": 81,
   "metadata": {
    "execution": {
     "iopub.execute_input": "2021-11-20T16:44:48.821861Z",
     "iopub.status.busy": "2021-11-20T16:44:48.821574Z",
     "iopub.status.idle": "2021-11-20T16:44:48.826424Z",
     "shell.execute_reply": "2021-11-20T16:44:48.825507Z",
     "shell.execute_reply.started": "2021-11-20T16:44:48.821827Z"
    }
   },
   "outputs": [
    {
     "name": "stdout",
     "output_type": "stream",
     "text": [
      "Three better,more likely sea-officers and men, each in his own different way,could not readily be found, and they were every\n"
     ]
    }
   ],
   "source": [
    "test_text='Three better,more likely sea-officers and men, each in his own different way,could not readily be found, and they were every'\n",
    "print(test_text)"
   ]
  },
  {
   "cell_type": "code",
   "execution_count": 83,
   "metadata": {
    "execution": {
     "iopub.execute_input": "2021-11-20T16:45:51.364775Z",
     "iopub.status.busy": "2021-11-20T16:45:51.364504Z",
     "iopub.status.idle": "2021-11-20T16:45:51.412311Z",
     "shell.execute_reply": "2021-11-20T16:45:51.411630Z",
     "shell.execute_reply.started": "2021-11-20T16:45:51.364739Z"
    }
   },
   "outputs": [
    {
     "data": {
      "text/plain": [
       "'god'"
      ]
     },
     "execution_count": 83,
     "metadata": {},
     "output_type": "execute_result"
    }
   ],
   "source": [
    "generate_text(model,tokenizer,seq_len,seed_text=test_text,num_gen_words=1)"
   ]
  },
  {
   "cell_type": "code",
   "execution_count": null,
   "metadata": {},
   "outputs": [],
   "source": [
    "seed_text = \"landsman has had fresh fruit to his daily hand and broken the world 's fresh bread to my mouldy crusts away whole oceans away from that\""
   ]
  },
  {
   "cell_type": "code",
   "execution_count": null,
   "metadata": {},
   "outputs": [],
   "source": [
    "generate_text(model,tokenizer,seq_len,seed_text=seed_text,num_gen_words=3)"
   ]
  }
 ],
 "metadata": {
  "kernelspec": {
   "display_name": "Python 3 (ipykernel)",
   "language": "python",
   "name": "python3"
  },
  "language_info": {
   "codemirror_mode": {
    "name": "ipython",
    "version": 3
   },
   "file_extension": ".py",
   "mimetype": "text/x-python",
   "name": "python",
   "nbconvert_exporter": "python",
   "pygments_lexer": "ipython3",
   "version": "3.9.12"
  }
 },
 "nbformat": 4,
 "nbformat_minor": 4
}
